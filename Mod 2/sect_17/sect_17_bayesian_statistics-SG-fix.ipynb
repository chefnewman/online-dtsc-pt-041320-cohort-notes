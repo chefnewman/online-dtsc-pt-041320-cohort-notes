{
 "cells": [
  {
   "cell_type": "markdown",
   "metadata": {},
   "source": [
    "# Sect 17: Bayesian Statistics"
   ]
  },
  {
   "cell_type": "markdown",
   "metadata": {},
   "source": [
    "- online-ds-pt-041320\n",
    "- 07/08/2020 study group"
   ]
  },
  {
   "cell_type": "markdown",
   "metadata": {},
   "source": [
    "## Learning Objectives"
   ]
  },
  {
   "cell_type": "markdown",
   "metadata": {},
   "source": [
    "- Review the concept of conditional probability \n",
    "- Learn about Bayes' Theorem\n",
    "- Apply Bayes Theorem - Bayes' Theorem Lab\n",
    "- Discuss maximum likelihood estimation (MLE)\n",
    "- Apply Maximum Likelihood Estimation using a normal distribution"
   ]
  },
  {
   "cell_type": "markdown",
   "metadata": {},
   "source": [
    "## Additional References"
   ]
  },
  {
   "cell_type": "markdown",
   "metadata": {
    "ExecuteTime": {
     "end_time": "2020-02-25T21:12:25.012751Z",
     "start_time": "2020-02-25T21:12:25.008886Z"
    }
   },
   "source": [
    "- **Videos**\n",
    "    - [Bayesian Stats & MLE YouTube Playlist](https://www.youtube.com/playlist?list=PLFknVelSJiSxKhi_xJIbBUZdIn49hDajE)\n",
    "\n",
    "\n",
    "- **Blog Posts & Articles**\n",
    "    - https://towardsdatascience.com/probability-concepts-explained-maximum-likelihood-estimation-c7b4342fdbb1\n",
    "    - [Star Wars Intro To Bayesian Priors](https://www.countbayesie.com/blog/2015/2/18/hans-solo-and-bayesian-priors)\n"
   ]
  },
  {
   "cell_type": "markdown",
   "metadata": {},
   "source": [
    "## Advice on Approaching This Section\n"
   ]
  },
  {
   "cell_type": "markdown",
   "metadata": {},
   "source": [
    "- Don't let the Monty Hall Problem lab slow you down.\n",
    "- Don't fret too much about the math behind the MLE section (for now). \n",
    "    - If you understand what we do in today's class, that is a better starting point than the lessons\n",
    "    \n",
    "- When we get to calculus & gradient descent we will come back and discuss more of the math from the lessons about MLE/MAP"
   ]
  },
  {
   "cell_type": "markdown",
   "metadata": {},
   "source": [
    "## Questions?\n",
    "- \n",
    "- "
   ]
  },
  {
   "cell_type": "markdown",
   "metadata": {
    "heading_collapsed": true
   },
   "source": [
    "# Conditional Probability - Review"
   ]
  },
  {
   "cell_type": "markdown",
   "metadata": {
    "hidden": true
   },
   "source": [
    "\n",
    "**Conditional probability emerges when the outcome a trial may influence the results of the upcoming trials.**\n",
    "\n",
    "The conditional probability (Probability of $A$ **given** $B$) can be written as:\n",
    "$$ P (A \\mid B) = \\dfrac{P(A \\cap B)}{P(B)}$$\n",
    "\n",
    "\n",
    "\n",
    "$P(A|B)$, is the probability A **given** that $B$ has just happened. \n"
   ]
  },
  {
   "cell_type": "markdown",
   "metadata": {
    "hidden": true
   },
   "source": [
    "## Laws & Theorems Based on Conditional Probability\n"
   ]
  },
  {
   "cell_type": "markdown",
   "metadata": {
    "hidden": true
   },
   "source": [
    "### Theorem 1: Product Rule\n",
    "\n",
    "The intersection of events $A$ and $B$ can be given by\n",
    "\n",
    "\\begin{align}\n",
    "    P(A \\cap B) = P(B) P(A \\mid B) = P(A) P(B \\mid A)\n",
    "\\end{align}\n",
    "\n"
   ]
  },
  {
   "cell_type": "markdown",
   "metadata": {
    "hidden": true
   },
   "source": [
    "### Theorem 2: Chain Rule AKA \"General Product Rule\"\n",
    "\n",
    "- Allows calculation of any member of the join distribution of a set of random variables using _only_ conditional probabilities.\n",
    "\n",
    "- Built on the product rule: \n",
    "$$P(A \\cap B) = P(A \\mid B) P(B)$$\n",
    "\n",
    "\n",
    "\n"
   ]
  },
  {
   "cell_type": "markdown",
   "metadata": {
    "heading_collapsed": true
   },
   "source": [
    "# Bayes' Theorem"
   ]
  },
  {
   "cell_type": "markdown",
   "metadata": {
    "hidden": true
   },
   "source": [
    "- Starts with the formula for conditional probability/likelihood:\n",
    "\n",
    "$$ P(A|B) = \\dfrac{P(A \\cap B)}{P(B)}$$\n",
    "\n",
    "- Substitute $P(B|A)P(A)$ for $P(A \\cap B)$ using the product rule and we get:\n",
    "\n",
    "\n",
    "\n",
    "#### Bayes' Theorem\n",
    "\n",
    "$$ \\large P(A|B) = \\frac{P(B|A)P(A)}{P(B)} $$\n",
    "\n",
    "\n",
    "- Note that, using Bayes theorem, you can compute conditional probabilities without explicitly needing to know $P(A \\cap B)$! "
   ]
  },
  {
   "cell_type": "markdown",
   "metadata": {
    "heading_collapsed": true
   },
   "source": [
    "# Activity: Bayes' Theorem - lab"
   ]
  },
  {
   "cell_type": "code",
   "execution_count": 5,
   "metadata": {
    "ExecuteTime": {
     "end_time": "2020-07-08T22:28:31.312551Z",
     "start_time": "2020-07-08T22:28:31.310376Z"
    },
    "hidden": true
   },
   "outputs": [],
   "source": [
    "# ! pip install -U fsds\n",
    "from fsds.imports import *"
   ]
  },
  {
   "cell_type": "code",
   "execution_count": 6,
   "metadata": {
    "ExecuteTime": {
     "end_time": "2020-07-08T22:28:31.318701Z",
     "start_time": "2020-07-08T22:28:31.316305Z"
    },
    "hidden": true
   },
   "outputs": [],
   "source": [
    "def bayes(P_a, P_b, P_b_given_a):\n",
    "    # Your code here\n",
    "\n",
    "    return P_a_given_b"
   ]
  },
  {
   "cell_type": "markdown",
   "metadata": {
    "hidden": true
   },
   "source": [
    "### Skin Cancer"
   ]
  },
  {
   "cell_type": "markdown",
   "metadata": {
    "hidden": true
   },
   "source": [
    "After a physical exam, a doctor observes a blemish on a client's arm. The doctor is concerned that the blemish could be cancerous, but tells the patient to be calm and that it's probably benign. Of those with skin cancer, 100% have such blemishes. However, 20% of those without skin cancer also have such blemishes. If 15% of the population has skin cancer, **what's the probability that this patient has skin cancer?**\n",
    "\n",
    "> Hint: Be sure to calculate the overall rate of blemishes across the entire population."
   ]
  },
  {
   "cell_type": "markdown",
   "metadata": {
    "hidden": true
   },
   "source": [
    "\n",
    "$$ \\large P(A|B) = \\frac{P(B|A)P(A)}{P(B)} $$\n"
   ]
  },
  {
   "cell_type": "markdown",
   "metadata": {
    "hidden": true
   },
   "source": [
    "- Must apply the Law of Total Probability to get P_blemish\n"
   ]
  },
  {
   "cell_type": "code",
   "execution_count": 7,
   "metadata": {
    "ExecuteTime": {
     "end_time": "2020-07-08T22:28:31.322272Z",
     "start_time": "2020-07-08T22:28:31.320256Z"
    },
    "hidden": true
   },
   "outputs": [],
   "source": [
    "# Your code here \n"
   ]
  },
  {
   "cell_type": "markdown",
   "metadata": {
    "hidden": true
   },
   "source": [
    "### Children (I) \n",
    " \n",
    "A couple has two children, the older of which is a boy. What is the probability that they have two boys?"
   ]
  },
  {
   "cell_type": "code",
   "execution_count": 8,
   "metadata": {
    "ExecuteTime": {
     "end_time": "2020-07-08T22:28:31.326074Z",
     "start_time": "2020-07-08T22:28:31.324102Z"
    },
    "hidden": true
   },
   "outputs": [],
   "source": [
    "# Your solution P(2boys|older child is a boy)\n"
   ]
  },
  {
   "cell_type": "markdown",
   "metadata": {
    "hidden": true
   },
   "source": [
    "### Children  (II)\n",
    "\n",
    "A couple has two children, one of which is a boy. What is the probability that they have two boys?"
   ]
  },
  {
   "cell_type": "code",
   "execution_count": 9,
   "metadata": {
    "ExecuteTime": {
     "end_time": "2020-07-08T22:28:31.329618Z",
     "start_time": "2020-07-08T22:28:31.327603Z"
    },
    "hidden": true
   },
   "outputs": [],
   "source": [
    "# Your solution P(2boys|1 of 2 children is a boy)\n"
   ]
  },
  {
   "cell_type": "markdown",
   "metadata": {
    "hidden": true
   },
   "source": [
    "### A diagnostic test\n"
   ]
  },
  {
   "cell_type": "markdown",
   "metadata": {
    "hidden": true
   },
   "source": [
    "A diagnostic test is advertised as being 99% accurate \n",
    "\n",
    "* If a patient has the disease, they  will test positive 99% of the time \n",
    "\n",
    "* If they don't have the disease, they will test negative 99% of the time  \n",
    "\n",
    "* 1% of all people have this disease \n",
    "\n",
    "If a patient tests positive, what is the probability that they actually have the disease?"
   ]
  },
  {
   "cell_type": "code",
   "execution_count": null,
   "metadata": {
    "ExecuteTime": {
     "end_time": "2020-07-08T22:04:36.663651Z",
     "start_time": "2020-07-08T22:04:36.659560Z"
    },
    "hidden": true
   },
   "outputs": [],
   "source": []
  },
  {
   "cell_type": "markdown",
   "metadata": {
    "heading_collapsed": true
   },
   "source": [
    "# Maximum Likelihood Estimation"
   ]
  },
  {
   "cell_type": "markdown",
   "metadata": {
    "hidden": true
   },
   "source": [
    "\n",
    "MLE primarily deals with **determining the parameters ($\\theta$'s)** that **maximize the probability/liklihood of observing the data**. "
   ]
  },
  {
   "cell_type": "markdown",
   "metadata": {
    "ExecuteTime": {
     "end_time": "2020-02-23T00:17:06.189085Z",
     "start_time": "2020-02-23T00:17:06.186800Z"
    },
    "hidden": true
   },
   "source": [
    "## Parameter Inference"
   ]
  },
  {
   "cell_type": "markdown",
   "metadata": {
    "hidden": true
   },
   "source": [
    "> - If we have a number of observations for a phenomenon that we do not know the probability/parameters for, we can use the probability of seeing those observations (the likelihood) for different probabilities/parameters until we find the value for the parameter that maximizes our chances of seeing the observed data.'\n"
   ]
  },
  {
   "cell_type": "markdown",
   "metadata": {
    "hidden": true
   },
   "source": [
    "### MLE Assumptions"
   ]
  },
  {
   "cell_type": "markdown",
   "metadata": {
    "hidden": true
   },
   "source": [
    "- Observations are independent \n",
    "- Observations are identically distributed\n",
    "\n",
    "\n",
    "> These assumptions are so common they have been given an abbreviation: \"the i.i.d. assumption (independent and identically distributed samples)\n",
    "\n",
    "<!---<img src =\"https://raw.githubusercontent.com/learn-co-students/dsc-mle-online-ds-pt-100719/master/images/der.png\">--->"
   ]
  },
  {
   "cell_type": "markdown",
   "metadata": {
    "ExecuteTime": {
     "end_time": "2020-02-25T21:18:55.524353Z",
     "start_time": "2020-02-25T21:18:55.522341Z"
    },
    "heading_collapsed": true
   },
   "source": [
    "# Activity: Using MLE to find the Mean and Std for Male Height"
   ]
  },
  {
   "cell_type": "markdown",
   "metadata": {
    "hidden": true
   },
   "source": [
    "> Use MLE to find find the mean height and standard deviation for males."
   ]
  },
  {
   "cell_type": "code",
   "execution_count": 10,
   "metadata": {
    "ExecuteTime": {
     "end_time": "2020-07-08T22:28:31.731052Z",
     "start_time": "2020-07-08T22:28:31.333507Z"
    },
    "hidden": true
   },
   "outputs": [
    {
     "data": {
      "text/html": [
       "<div>\n",
       "<style scoped>\n",
       "    .dataframe tbody tr th:only-of-type {\n",
       "        vertical-align: middle;\n",
       "    }\n",
       "\n",
       "    .dataframe tbody tr th {\n",
       "        vertical-align: top;\n",
       "    }\n",
       "\n",
       "    .dataframe thead th {\n",
       "        text-align: right;\n",
       "    }\n",
       "</style>\n",
       "<table border=\"1\" class=\"dataframe\">\n",
       "  <thead>\n",
       "    <tr style=\"text-align: right;\">\n",
       "      <th></th>\n",
       "      <th>Gender</th>\n",
       "      <th>Height</th>\n",
       "      <th>Weight</th>\n",
       "    </tr>\n",
       "  </thead>\n",
       "  <tbody>\n",
       "    <tr>\n",
       "      <td>0</td>\n",
       "      <td>Male</td>\n",
       "      <td>73.847017</td>\n",
       "      <td>241.893563</td>\n",
       "    </tr>\n",
       "    <tr>\n",
       "      <td>1</td>\n",
       "      <td>Male</td>\n",
       "      <td>68.781904</td>\n",
       "      <td>162.310473</td>\n",
       "    </tr>\n",
       "    <tr>\n",
       "      <td>2</td>\n",
       "      <td>Male</td>\n",
       "      <td>74.110105</td>\n",
       "      <td>212.740856</td>\n",
       "    </tr>\n",
       "    <tr>\n",
       "      <td>3</td>\n",
       "      <td>Male</td>\n",
       "      <td>71.730978</td>\n",
       "      <td>220.042470</td>\n",
       "    </tr>\n",
       "    <tr>\n",
       "      <td>4</td>\n",
       "      <td>Male</td>\n",
       "      <td>69.881796</td>\n",
       "      <td>206.349801</td>\n",
       "    </tr>\n",
       "    <tr>\n",
       "      <td>...</td>\n",
       "      <td>...</td>\n",
       "      <td>...</td>\n",
       "      <td>...</td>\n",
       "    </tr>\n",
       "    <tr>\n",
       "      <td>9995</td>\n",
       "      <td>Female</td>\n",
       "      <td>66.172652</td>\n",
       "      <td>136.777454</td>\n",
       "    </tr>\n",
       "    <tr>\n",
       "      <td>9996</td>\n",
       "      <td>Female</td>\n",
       "      <td>67.067155</td>\n",
       "      <td>170.867906</td>\n",
       "    </tr>\n",
       "    <tr>\n",
       "      <td>9997</td>\n",
       "      <td>Female</td>\n",
       "      <td>63.867992</td>\n",
       "      <td>128.475319</td>\n",
       "    </tr>\n",
       "    <tr>\n",
       "      <td>9998</td>\n",
       "      <td>Female</td>\n",
       "      <td>69.034243</td>\n",
       "      <td>163.852461</td>\n",
       "    </tr>\n",
       "    <tr>\n",
       "      <td>9999</td>\n",
       "      <td>Female</td>\n",
       "      <td>61.944246</td>\n",
       "      <td>113.649103</td>\n",
       "    </tr>\n",
       "  </tbody>\n",
       "</table>\n",
       "<p>10000 rows × 3 columns</p>\n",
       "</div>"
      ],
      "text/plain": [
       "      Gender     Height      Weight\n",
       "0       Male  73.847017  241.893563\n",
       "1       Male  68.781904  162.310473\n",
       "2       Male  74.110105  212.740856\n",
       "3       Male  71.730978  220.042470\n",
       "4       Male  69.881796  206.349801\n",
       "...      ...        ...         ...\n",
       "9995  Female  66.172652  136.777454\n",
       "9996  Female  67.067155  170.867906\n",
       "9997  Female  63.867992  128.475319\n",
       "9998  Female  69.034243  163.852461\n",
       "9999  Female  61.944246  113.649103\n",
       "\n",
       "[10000 rows x 3 columns]"
      ]
     },
     "execution_count": 10,
     "metadata": {},
     "output_type": "execute_result"
    }
   ],
   "source": [
    "df = fs.datasets.load_height_weight()\n",
    "df"
   ]
  },
  {
   "cell_type": "code",
   "execution_count": 11,
   "metadata": {
    "ExecuteTime": {
     "end_time": "2020-07-08T22:28:31.740858Z",
     "start_time": "2020-07-08T22:28:31.732493Z"
    },
    "hidden": true
   },
   "outputs": [
    {
     "data": {
      "text/plain": [
       "2648    69.569235\n",
       "2456    68.035724\n",
       "4557    65.102935\n",
       "4884    64.585263\n",
       "92      70.640530\n",
       "          ...    \n",
       "1182    74.758752\n",
       "1898    72.439501\n",
       "2736    68.929542\n",
       "1003    67.805312\n",
       "3022    68.914623\n",
       "Name: Height, Length: 100, dtype: float64"
      ]
     },
     "execution_count": 11,
     "metadata": {},
     "output_type": "execute_result"
    }
   ],
   "source": [
    "## Separate Out Males' height\n",
    "df_male = df.groupby('Gender').get_group(\"Male\")['Height']\n",
    "\n",
    "## Take a small sample (n=100) using random_state 123\n",
    "male_sample = df_male.sample(100, random_state=123)\n",
    "male_sample"
   ]
  },
  {
   "cell_type": "code",
   "execution_count": 12,
   "metadata": {
    "ExecuteTime": {
     "end_time": "2020-07-08T22:28:31.923428Z",
     "start_time": "2020-07-08T22:28:31.742609Z"
    },
    "hidden": true
   },
   "outputs": [
    {
     "data": {
      "text/plain": [
       "[Text(0.5, 0, 'Height (inches)'), Text(0.5, 1.0, 'Observed Male Heights')]"
      ]
     },
     "execution_count": 12,
     "metadata": {},
     "output_type": "execute_result"
    },
    {
     "data": {
      "image/png": "[encoded data removed]",
      "text/plain": [
       "<Figure size 720x216 with 1 Axes>"
      ]
     },
     "metadata": {
      "needs_background": "light"
     },
     "output_type": "display_data"
    }
   ],
   "source": [
    "## Rug Plot of Male Heights Sample\n",
    "fig,ax=plt.subplots(figsize=(10,3))\n",
    "ax = sns.rugplot(male_sample,ax=ax,height=0.3)\n",
    "ax.set(title='Observed Male Heights', \n",
    "       xlabel='Height (inches)')"
   ]
  },
  {
   "cell_type": "code",
   "execution_count": null,
   "metadata": {
    "hidden": true
   },
   "outputs": [],
   "source": []
  },
  {
   "cell_type": "markdown",
   "metadata": {
    "hidden": true
   },
   "source": [
    "## Task: Use MLE to Determine the Most Likely Mean and Std of Male Height"
   ]
  },
  {
   "cell_type": "markdown",
   "metadata": {
    "hidden": true
   },
   "source": [
    "- How can we figure out the most likely population mean and std for males?"
   ]
  },
  {
   "cell_type": "code",
   "execution_count": 13,
   "metadata": {
    "ExecuteTime": {
     "end_time": "2020-07-08T22:28:31.927298Z",
     "start_time": "2020-07-08T22:28:31.924802Z"
    },
    "hidden": true
   },
   "outputs": [],
   "source": [
    "import scipy.stats as st\n",
    "mu=60\n",
    "std=2"
   ]
  },
  {
   "cell_type": "code",
   "execution_count": 14,
   "metadata": {
    "ExecuteTime": {
     "end_time": "2020-07-08T22:28:31.933125Z",
     "start_time": "2020-07-08T22:28:31.928566Z"
    },
    "hidden": true
   },
   "outputs": [],
   "source": [
    "## Generate 100 data points in the range of male_height (xs)\n",
    "xs = np.linspace(male_sample.min(),male_sample.max(),100)\n",
    "\n",
    "## Generate a normal distribution (ys) using the xs \n",
    "ys = st.norm(loc=mu,scale=std).pdf(xs)"
   ]
  },
  {
   "cell_type": "code",
   "execution_count": 15,
   "metadata": {
    "ExecuteTime": {
     "end_time": "2020-07-08T22:28:32.099981Z",
     "start_time": "2020-07-08T22:28:31.934247Z"
    },
    "hidden": true
   },
   "outputs": [
    {
     "data": {
      "text/plain": [
       "<matplotlib.axes._subplots.AxesSubplot at 0x12b2f89e8>"
      ]
     },
     "execution_count": 15,
     "metadata": {},
     "output_type": "execute_result"
    },
    {
     "data": {
      "image/png": "[encoded data removed]",
      "text/plain": [
       "<Figure size 432x288 with 1 Axes>"
      ]
     },
     "metadata": {
      "needs_background": "light"
     },
     "output_type": "display_data"
    }
   ],
   "source": [
    "## PLot the male_sample rugplot with the nromal distrubition\n",
    "plt.plot(xs,ys)\n",
    "sns.rugplot(male_sample)"
   ]
  },
  {
   "cell_type": "code",
   "execution_count": 16,
   "metadata": {
    "ExecuteTime": {
     "end_time": "2020-07-08T22:28:32.271795Z",
     "start_time": "2020-07-08T22:28:32.101205Z"
    },
    "hidden": true
   },
   "outputs": [
    {
     "data": {
      "image/png": "[encoded data removed]",
      "text/plain": [
       "<Figure size 720x216 with 1 Axes>"
      ]
     },
     "metadata": {
      "needs_background": "light"
     },
     "output_type": "display_data"
    }
   ],
   "source": [
    "def plot_male_height(male_sample, mu, std):\n",
    "    \"\"\"Plot a rugplot of the male_sample \n",
    "    vs the normal distribution defined by mu and std.\"\"\"\n",
    "\n",
    "    ## Plot Male Heights\n",
    "    fig,ax=plt.subplots(figsize=(10,3))\n",
    "    ax = sns.rugplot(male_sample,ax=ax,height=0.1)\n",
    "    ax.set(title='Observed Male Heights', xlabel='Height (inches)')\n",
    "    \n",
    "    ## Generate a normal distribution (ys) using the xs \n",
    "    xs = np.linspace(male_sample.min(),male_sample.max(),100)\n",
    "    pop = st.norm(loc=mu,scale=std).pdf(xs)\n",
    "    \n",
    "    ax.plot(xs,pop,label=f\"Generated Dist (mu={mu}, std={std})\")\n",
    "    ax.axvline(mu,c='k',ls=':',label=f\"Mean={mu}\")\n",
    "    ax.legend()\n",
    "plot_male_height(male_sample,66,2)    "
   ]
  },
  {
   "cell_type": "markdown",
   "metadata": {
    "hidden": true
   },
   "source": [
    "## The Probability Density Function for the Normal Distribution\n",
    "\n",
    "https://towardsdatascience.com/maximum-likelihood-estimation-explained-normal-distribution-6207b322e47f"
   ]
  },
  {
   "cell_type": "markdown",
   "metadata": {
    "hidden": true
   },
   "source": [
    "The probability density function equation for the normal distribution is given by the following expression:\n",
    "\n",
    "$$ \\large P(x) = \\dfrac{1}{\\sigma \\sqrt {2\\pi }}e^{-\\dfrac{(x-\\mu)^2}{2\\sigma^2}}$$\n",
    "\n",
    "Here, \n",
    "- $\\mu$ is the mean\n",
    "- $\\sigma$ is the standard deviation\n",
    "- $\\pi \\approx 3.14159 $ \n",
    "- $ e \\approx 2.71828 $\n",
    "\n",
    "> https://learn.co/tracks/module-2-data-science-career-2-1/statistics-ab-testing-and-linear-regression/section-12-statistical-distributions/the-normal-distribution"
   ]
  },
  {
   "cell_type": "code",
   "execution_count": null,
   "metadata": {
    "ExecuteTime": {
     "end_time": "2020-07-08T22:07:14.284914Z",
     "start_time": "2020-07-08T22:07:14.281315Z"
    },
    "hidden": true
   },
   "outputs": [],
   "source": [
    "import math\n",
    "import numpy as np\n",
    "\n",
    "def calc_likelihood(x,mu,std):\n",
    "    \"\"\"Write a function to calculate the expected value at \n",
    "    a particular point using the equation above.\"\"\"\n",
    "    pass\n",
    "\n",
    "\n",
    "def calc_total_likelihood(xs,mu,std):\n",
    "    \"\"\"Write a function that will get the likelihood \n",
    "    for each x value so we can get the product of the total probability\"\"\"\n",
    "    pass"
   ]
  },
  {
   "cell_type": "code",
   "execution_count": null,
   "metadata": {
    "ExecuteTime": {
     "end_time": "2020-07-08T22:25:41.174780Z",
     "start_time": "2020-07-08T22:25:41.170597Z"
    },
    "hidden": true
   },
   "outputs": [],
   "source": [
    "## Parameter Inference\n",
    "## We want to infer which of these values best matches the true Mean and Std of male height\n",
    "import itertools\n",
    "theta_mus = []\n",
    "theta_stds = []\n",
    "\n",
    "theta_params = list(itertools.product(theta_mus,theta_stds))\n",
    "theta_params[:5]"
   ]
  },
  {
   "cell_type": "code",
   "execution_count": null,
   "metadata": {
    "ExecuteTime": {
     "end_time": "2020-07-08T01:51:13.687454Z",
     "start_time": "2020-07-08T01:51:13.685032Z"
    },
    "hidden": true
   },
   "outputs": [],
   "source": [
    "## Calculate the most likely parameters for mu, std\n",
    "compare_likelihoods = [['Mu', \"Std\",'Likelihood']]\n",
    "\n",
    "## For each pair of mu,std, calculate total likelihood.\n",
    "\n",
    "\n",
    "## Turn it into a df for convenience\n",
    "\n"
   ]
  },
  {
   "cell_type": "code",
   "execution_count": null,
   "metadata": {
    "ExecuteTime": {
     "end_time": "2020-07-08T01:51:15.493136Z",
     "start_time": "2020-07-08T01:51:15.491074Z"
    },
    "hidden": true
   },
   "outputs": [],
   "source": [
    "## View the 5 params with the highest likelihood"
   ]
  },
  {
   "cell_type": "code",
   "execution_count": null,
   "metadata": {
    "ExecuteTime": {
     "end_time": "2020-07-08T01:44:32.956132Z",
     "start_time": "2020-07-08T01:44:32.739563Z"
    },
    "hidden": true
   },
   "outputs": [],
   "source": [
    "## Plot the male_sample rugplot vs mu and std with the max likelihood\n",
    "plot_male_height()"
   ]
  },
  {
   "cell_type": "code",
   "execution_count": null,
   "metadata": {
    "ExecuteTime": {
     "end_time": "2020-07-08T01:52:00.445644Z",
     "start_time": "2020-07-08T01:52:00.441079Z"
    },
    "hidden": true
   },
   "outputs": [],
   "source": [
    "## Get the actual mean and std from the full population\n",
    "df_male.mean(), df_male.std()"
   ]
  },
  {
   "cell_type": "markdown",
   "metadata": {
    "heading_collapsed": true
   },
   "source": [
    "# Appendix"
   ]
  },
  {
   "cell_type": "markdown",
   "metadata": {
    "hidden": true
   },
   "source": [
    "\n",
    "\n",
    "### Monotonic function\n",
    "\n",
    "> In mathematics, a [monotonic function](https://en.wikipedia.org/wiki/Monotonic_function) (or monotone function) is a function between ordered sets that preserves or reverses the given order. This concept first arose in calculus, and was later generalized to the more abstract setting of order theory. \n",
    "\n",
    "\n",
    "According to this theory, if you apply a monotonic function to another function, like the one you are trying to optimize above, this application will preserve the critical points (maxima in this case) of the original function. Logarithmic functions are normally used within the domain of machine learning to achieve the functionality of monotonicity. The logarithmic function is described as:\n",
    "\n",
    "> $log_b(x)$\n",
    "\n",
    "* where b is any number such that b > 0, b ≠ 1, and x > 0  \n",
    "* The function is read \"log base b of x\" \n",
    "\n",
    "The logarithm y is the exponent to which b must be raised to get x. The behavior of a log function can be understood from following image.\n",
    "\n",
    "\n",
    "<img src=\"https://raw.githubusercontent.com/jirvingphd/dsc-mle-online-ds-pt-100719/master/images/new_log.png\" width=\"700\">\n",
    "\n",
    "\n",
    "This helps you realize that **log of f(θ) i.e. log(f(θ)) will have the save maxima as the likelihood function f(θ).** This is better known as the **log likelihood**. \n"
   ]
  },
  {
   "cell_type": "code",
   "execution_count": null,
   "metadata": {
    "hidden": true
   },
   "outputs": [],
   "source": []
  }
 ],
 "metadata": {
  "kernelspec": {
   "display_name": "Python [conda env:learn-env] *",
   "language": "python",
   "name": "conda-env-learn-env-py-2"
  },
  "language_info": {
   "codemirror_mode": {
    "name": "ipython",
    "version": 3
   },
   "file_extension": ".py",
   "mimetype": "text/x-python",
   "name": "python",
   "nbconvert_exporter": "python",
   "pygments_lexer": "ipython3",
   "version": "3.6.9"
  },
  "toc": {
   "base_numbering": 1,
   "nav_menu": {},
   "number_sections": false,
   "sideBar": true,
   "skip_h1_title": false,
   "title_cell": "Table of Contents",
   "title_sidebar": "Contents",
   "toc_cell": false,
   "toc_position": {
    "height": "calc(100% - 180px)",
    "left": "10px",
    "top": "150px",
    "width": "290.909px"
   },
   "toc_section_display": true,
   "toc_window_display": true
  }
 },
 "nbformat": 4,
 "nbformat_minor": 2
}
