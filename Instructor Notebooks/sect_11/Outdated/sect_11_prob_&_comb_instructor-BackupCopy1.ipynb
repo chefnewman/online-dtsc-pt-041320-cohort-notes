{
 "cells": [
  {
   "cell_type": "markdown",
   "metadata": {
    "colab_type": "text",
    "id": "bTdc9YkWXZz_"
   },
   "source": [
    "# Sect 11 - Part 1: Combinatorics & Probability \n"
   ]
  },
  {
   "cell_type": "markdown",
   "metadata": {},
   "source": [
    "- Study Group for: online-ds-pt-041320\n",
    "\n",
    "- 06/10/20\n"
   ]
  },
  {
   "cell_type": "markdown",
   "metadata": {
    "colab_type": "text",
    "id": "MJZRe34uX9qJ"
   },
   "source": [
    "## Learning Objectives\n",
    "\n",
    "- Understand what sets are and set operations.\n",
    "- Understand what probability is and how it is calculated.\n",
    "- Understand factorials, permutations, and combinations. \n",
    "\n",
    "- **Activity: Playlist Probabilities**"
   ]
  },
  {
   "cell_type": "markdown",
   "metadata": {},
   "source": [
    "### Links/References:\n",
    "- Study Groups:\n",
    "    - [Reviewing Probability & Combinatorics - M3S17 [2019-07-16]](https://www.youtube.com/watch?v=UBWnkflWvmU&list=PLVoXE6pv5LIgIui2D6u0Nga3oHtQ2ogmY&index=2) - Victor\n",
    "    - [Permutations & Factorials](https://youtu.be/-tzUcmASgC8) - Jeff\n",
    "    - [Permutations/Combinations](https://www.youtube.com/watch?v=WMYnIe2f7to&feature=youtu.be) - Rafael\n"
   ]
  },
  {
   "cell_type": "markdown",
   "metadata": {},
   "source": [
    "## QUESTIONS:"
   ]
  },
  {
   "cell_type": "code",
   "execution_count": null,
   "metadata": {},
   "outputs": [],
   "source": []
  },
  {
   "cell_type": "markdown",
   "metadata": {
    "colab_type": "text",
    "id": "NE6mcOGxe7RT"
   },
   "source": [
    "# Sets"
   ]
  },
  {
   "cell_type": "markdown",
   "metadata": {},
   "source": [
    "\n",
    "> A **Set**: *a well-defined collection of unique objects*.\n",
    "\n",
    "**Math notation:**\n",
    "- Define a set as $S$ \n",
    "- If $x$ is an element of set $S$:\n",
    "    - $x \\in S$.\n",
    "- If $x$ is not an element of set $S$:\n",
    "    - $x\\notin S$.\n",
    "        \n",
    "### Subset: \n",
    "> A **Subset**: set $T$ is a subset of set $S$ if *every element* in set $T$ is also in set $S$. \n",
    "\n",
    "**Math Notation**\n",
    "- $T$ is a subset of $S$.   \n",
    "    - $T \\subset S$\n",
    "\n",
    "- $T$ and $S$ can be the SAME population \n",
    "- If $T$ != $S$, but $T \\subset S$, called a 'proper subset'\n",
    "    - Can use notation:  $T \\subsetneq S$ and $T \\subseteq S$ \n",
    "\n",
    "### Universal set:\n",
    "> A **Universal Set**: The collection of all possible outcomes in a certain context or universe.\n",
    "\n",
    "**Math Notation**\n",
    "- Universal set denoted by Omega ($\\Omega$)\n",
    "- Can have infinite # of elements (e.g. the set of all real numbers!)\n",
    "- Example: all possible outcomes of a 6-sided die:\n",
    "    - $\\Omega = \\{1,2,3,4,5,6\\}$\n",
    "\n"
   ]
  },
  {
   "cell_type": "markdown",
   "metadata": {
    "colab_type": "text",
    "id": "c9rKTCYMebwR"
   },
   "source": [
    "## Set operations:"
   ]
  },
  {
   "cell_type": "markdown",
   "metadata": {
    "colab_type": "text",
    "id": "c9rKTCYMebwR"
   },
   "source": [
    "- Data used in examples:\n",
    "\n",
    "Imagine you have two sets of numbers, say the first 4 multiples of 3 in set $S$:\n",
    "\n",
    "$ S = \\{3,6,9,12\\}$\n",
    "\n",
    " and the first 4 multiples of 2 in set $T$:\n",
    " \n",
    "$ T = \\{2,4,6,8\\} $."
   ]
  },
  {
   "cell_type": "markdown",
   "metadata": {
    "colab_type": "text",
    "id": "c9rKTCYMebwR"
   },
   "source": [
    "#### Union (combining elements)"
   ]
  },
  {
   "cell_type": "markdown",
   "metadata": {
    "colab_type": "text",
    "id": "c9rKTCYMebwR"
   },
   "source": [
    "- the union of $S$ and $T$ is denoted as $S \\cup T$\n",
    "<img src=\"https://raw.githubusercontent.com/jirvingphd/dsc-intro-to-sets-online-ds-ft-100719/master/images/new_union.png\" width=200>"
   ]
  },
  {
   "cell_type": "markdown",
   "metadata": {
    "colab_type": "text",
    "id": "c9rKTCYMebwR"
   },
   "source": [
    "#### Intersection"
   ]
  },
  {
   "cell_type": "markdown",
   "metadata": {
    "colab_type": "text",
    "id": "c9rKTCYMebwR"
   },
   "source": [
    "- contains all elements of $S$ that also belong to $T$. \n",
    "    - denoted as $S \\cap T$.\n",
    "\n",
    "<img src=\"https://raw.githubusercontent.com/jirvingphd/dsc-intro-to-sets-online-ds-ft-100719/master/images/new_intersection.png\" width=200>"
   ]
  },
  {
   "cell_type": "markdown",
   "metadata": {
    "colab_type": "text",
    "id": "c9rKTCYMebwR"
   },
   "source": [
    "#### Relative complement / difference"
   ]
  },
  {
   "cell_type": "markdown",
   "metadata": {
    "colab_type": "text",
    "id": "c9rKTCYMebwR"
   },
   "source": [
    "<img src=\"https://raw.githubusercontent.com/jirvingphd/dsc-intro-to-sets-online-ds-ft-100719/master/images/new_rel_comp.png\" width=200>\n",
    "\n",
    "-  the relative complement of S contains all the elements of T that are NOT in S.\n",
    "    - relative complement of S (or $ T\\backslash S $) is $\\{2,4,8\\}$.\n",
    "    - relative complement  of T (or $ S\\backslash T $) is $\\{3,9,12\\}$.\n",
    "    \n",
    "<!img src=\"https://raw.githubusercontent.com/learn-co-students/dsc-1-08-07-introduction-to-sets-online-ds-ft-021119/master/rel_comp.png\" width=300>"
   ]
  },
  {
   "cell_type": "markdown",
   "metadata": {
    "colab_type": "text",
    "id": "c9rKTCYMebwR"
   },
   "source": [
    "#### Absolute complement"
   ]
  },
  {
   "cell_type": "markdown",
   "metadata": {
    "colab_type": "text",
    "id": "c9rKTCYMebwR"
   },
   "source": [
    "<img src=\"https://raw.githubusercontent.com/jirvingphd/dsc-intro-to-sets-online-ds-ft-100719/master/images/new_abs_comp.png\" width=200>\n",
    "\n",
    "\n",
    "- The absolute complement of $S$, with respect to the Universal set $\\Omega$, is the collection of the objects in $\\Omega$ that don't belong to $S$.\n",
    "    -  absolute complement of $S$ is denoted as $S'$ or $S^c$.\n",
    "    \n",
    "<!img src=\"https://raw.githubusercontent.com/learn-co-students/dsc-1-08-07-introduction-to-sets-online-ds-ft-021119/master/abs_comp.png\" width=300>\n",
    "\n",
    "- Example: Let's define $\\Omega$ (box around the two venn diagrams) = multiples of both 2 and 3 until 20.\n",
    "\n",
    "    - Elements of $\\Omega$ are $\\{2,3,4,6,8,9,10,12,14,15,16,18,20\\}$. \n",
    "\n",
    "    - The absolute complement of $S$ (so $S'$ or $S^c$) is then given by $\\{2,4,8,10,14,15,16,18,20\\}$.\n",
    " "
   ]
  },
  {
   "cell_type": "markdown",
   "metadata": {
    "ExecuteTime": {
     "end_time": "2020-01-07T21:54:38.651591Z",
     "start_time": "2020-01-07T21:54:38.645607Z"
    }
   },
   "source": [
    "### Note on Important Number Sets & Their Notation\n",
    "\n",
    "- If you define that the event \"low daily number of text messages sent\" means 20 or fewer text messages, the event space is defined as: $E = \\{x \\mid x \\in \\mathbb{Z}, 0 \\leq x \\leq 20 \\}$\n",
    "- Binge-watch day:  $E = \\{x \\mid x \\in \\mathbb{R}, x \\geq 6 \\}$\n",
    "\n",
    "| SYMBOL | MEANING |\n",
    "| --- | --- |\n",
    "|$\\emptyset$ or $\\{\\}$ | empty set \n",
    "|$ \\mathbb{N}$ | natural numbers |\n",
    "|$\\mathbb{Z}$ | integers (from Zahl, German for number). |\n",
    "|$ \\mathbb{Q}$ | rational numbers (from quotient) |\n",
    "|$\\mathbb{R}$  | real numbers |\n",
    "|$ \\mathbb{C}$ | complex numbers |"
   ]
  },
  {
   "cell_type": "markdown",
   "metadata": {
    "colab_type": "text",
    "id": "c9rKTCYMebwR"
   },
   "source": [
    "### Inclusion Exclusion principle"
   ]
  },
  {
   "cell_type": "markdown",
   "metadata": {
    "colab_type": "text",
    "id": "c9rKTCYMebwR"
   },
   "source": [
    "- Used to calculate the number of elements of each set and the union of all sets.\n",
    "\n",
    "- Note $|S|$ denotes the *cardinality* of S aka the number of element in S\n",
    "\n",
    "<img src=\"https://raw.githubusercontent.com/jirvingphd/dsc-intro-to-sets-online-ds-ft-100719/master/images/new_venn_diagram.png\" width=400>\n",
    "\n",
    "\n",
    "- When combining  2 sets, the method for obtaining the union of two finite sets is given by:\n",
    "\n",
    "    - $\\mid S \\cup T \\mid = \\mid S \\mid + \\mid T \\mid - \\mid S \\cap T \\mid $\n",
    "    \n",
    "        - Horizontal lines denote the *cardinality* of a set, which is the number of elements, considering a finite set. \n",
    "- When combining 3 sets:\n",
    "\n",
    "$\\mid S \\cup T\\cup R \\mid = \\mid S \\mid + \\mid T \\mid + \\mid R \\mid - \\mid S \\cap T \\mid  -\\mid S \\cap R \\mid - \\mid R \\cap T \\mid  + \\mid S \\cap T \\cap R \\mid $\n",
    "        \n",
    "        \n",
    "- *The formula expresses the fact that the sum of the sizes of the two sets may be too large since some elements may be counted twice. For the double-counted elements, one is substracted again.*\n",
    "\n",
    "### Empty \n",
    " - An **empty** set has no elements\n",
    " - denoted by $\\emptyset$ or simply $\\{\\}$\n",
    " \n",
    " "
   ]
  },
  {
   "cell_type": "markdown",
   "metadata": {},
   "source": [
    "### SET OPERATIONS IN PYTHON\n"
   ]
  },
  {
   "cell_type": "markdown",
   "metadata": {
    "colab_type": "text",
    "id": "c9rKTCYMebwR"
   },
   "source": [
    " \n",
    "\n",
    "| Method        |\tEquivalent |\tResult |\n",
    "| ------                    | ------       | ------    |\n",
    "| s.issubset(t)             |\ts <= t     | test whether every element in s is in t\n",
    "| s.issuperset(t)           |\ts >= t     | test whether every element in t is in s\n",
    "| s.union(t)                |\ts $\\mid$ t | new set with elements from both s and t\n",
    "| s.intersection(t)         |\ts & t      | new set with elements common to s and t\n",
    "| s.difference(t)           |\ts - t \t   | new set with elements in s but not in t\n",
    "| s.symmetric_difference(t) |\ts ^ t      | new set with elements in either s or t but not both"
   ]
  },
  {
   "cell_type": "markdown",
   "metadata": {},
   "source": [
    "# Probability\n"
   ]
  },
  {
   "cell_type": "markdown",
   "metadata": {},
   "source": [
    "## What is probability?"
   ]
  },
  {
   "cell_type": "markdown",
   "metadata": {
    "colab_type": "text",
    "id": "hHKVcR-FYNqf"
   },
   "source": [
    "> **Probability is the likelihood of a specific outcome/event occuring out of all possible outcomes, expressed as a fraction between 0 and 1**\n",
    "\n",
    "Example Probability Qs:\n",
    "- How likely is it to end up with heads when flipping a coin once? (the answer here is 50% - not very surprising)\n",
    "\n",
    "- How likely is it to end up with exactly 2 x heads and 3 x tails when flipping a coin 5 times?\n",
    "\n",
    "- How likely is it to throw tails first, then heads, then tails, then heads, then tails when flipping a coin 5 times?\n",
    "\n",
    "- If you throw 5 dice, what is the probability of throwing a [\"full house\"](http://grail.sourceforge.net/demo/yahtzee/rules.html)?\n",
    "\n",
    "- What is the probability of drawing 2 consecutive aces from a standard deck of cards?\n",
    "\n",
    "> But how do we calculate it? ..._to be continued_...\n",
    "\n"
   ]
  },
  {
   "cell_type": "markdown",
   "metadata": {
    "colab_type": "text",
    "id": "5yI4j_L6XcBp"
   },
   "source": [
    "### Sample Space & Event Space"
   ]
  },
  {
   "cell_type": "markdown",
   "metadata": {
    "colab_type": "text",
    "id": "5yI4j_L6XcBp"
   },
   "source": [
    "##### Sample space:"
   ]
  },
  {
   "cell_type": "markdown",
   "metadata": {
    "colab_type": "text",
    "id": "5yI4j_L6XcBp"
   },
   "source": [
    "$$S = \\{ 1,2,3,4,5,6\\}$$ \n",
    "being the possible outcomes when throwing a dice.\n",
    "- Sample space =  $\\Omega$ "
   ]
  },
  {
   "cell_type": "markdown",
   "metadata": {
    "colab_type": "text",
    "id": "5yI4j_L6XcBp"
   },
   "source": [
    "##### Event space:"
   ]
  },
  {
   "cell_type": "markdown",
   "metadata": {
    "colab_type": "text",
    "id": "5yI4j_L6XcBp"
   },
   "source": [
    "-   The **event space** is a subset of the sample space. It is the **desired outcome** of the experiment.\n",
    "$$E \\subseteq S$$\n",
    "-   Example:\n",
    "    -   Throwing an odd number would lead to an event space $$E = \\{ 1,3,5\\}$$."
   ]
  },
  {
   "cell_type": "markdown",
   "metadata": {},
   "source": [
    "### Probability of an Event"
   ]
  },
  {
   "cell_type": "markdown",
   "metadata": {},
   "source": [
    "$$ P(E) = \\frac{|E|}{|S|} $$\n",
    "probability is the number of possible preferred outcomes over the sample space / all outcomes"
   ]
  },
  {
   "cell_type": "markdown",
   "metadata": {
    "colab_type": "text",
    "id": "5yI4j_L6XcBp"
   },
   "source": [
    "### Law of relative frequency"
   ]
  },
  {
   "cell_type": "markdown",
   "metadata": {
    "colab_type": "text",
    "id": "5yI4j_L6XcBp"
   },
   "source": [
    "- Limit of large infinite outcomes produce fixed numbers .\n",
    "$$ \\large P(E) = \\lim_{n\\to\\infty}\\frac{S(n)}{n}$$\n",
    "    - Probability of Event E having Successful(S) outcomes for $n$ trials\n",
    "    "
   ]
  },
  {
   "cell_type": "markdown",
   "metadata": {
    "colab_type": "text",
    "id": "5yI4j_L6XcBp"
   },
   "source": [
    "### Probability axioms"
   ]
  },
  {
   "cell_type": "markdown",
   "metadata": {
    "colab_type": "text",
    "id": "5yI4j_L6XcBp"
   },
   "source": [
    "1.  Positivity : \n",
    "\n",
    "    - Prob is always $0 <= P(E) <=1$\n",
    "\n",
    "\n",
    "2.  Probability of a certain event:\n",
    "\n",
    "    - $P(S)=1$\n",
    "\n",
    "\n",
    "3.  Additivity Union of 2 exclusive sets = sum prob of individual events happening\n",
    "    \n",
    "    - If $A\\cap B = \\emptyset $, then $P(A\\cup B) = P(A) + P(B)$"
   ]
  },
  {
   "cell_type": "markdown",
   "metadata": {
    "colab_type": "text",
    "id": "5yI4j_L6XcBp"
   },
   "source": [
    "### Addition law of probability "
   ]
  },
  {
   "cell_type": "markdown",
   "metadata": {
    "colab_type": "text",
    "id": "5yI4j_L6XcBp"
   },
   "source": [
    "-   Prob of union of A and B is individual P minus intersection\n",
    "\n",
    "$$ \\large P(A\\cup B) = P(A) + P(B) - P(A \\cap B)$$"
   ]
  },
  {
   "cell_type": "markdown",
   "metadata": {
    "heading_collapsed": true
   },
   "source": [
    "# Permutations and Factorials:\n"
   ]
  },
  {
   "cell_type": "markdown",
   "metadata": {
    "hidden": true
   },
   "source": [
    "## Permutations"
   ]
  },
  {
   "cell_type": "markdown",
   "metadata": {
    "hidden": true
   },
   "source": [
    "- **Permutations have to do with arranging objects.(Order is important)**\n",
    "\n",
    "> ***How many ways to arrange n elements?***\n",
    "    $$\\large P(n) = n!$$"
   ]
  },
  {
   "cell_type": "markdown",
   "metadata": {
    "hidden": true
   },
   "source": [
    "### Factorials\n"
   ]
  },
  {
   "cell_type": "markdown",
   "metadata": {
    "hidden": true
   },
   "source": [
    "The factorial of $n$ is calculated by multiplying every number below $n$ together.\n",
    "\n",
    "$$n! = n  \\times (n-1) \\times (n-2)\\times...\\times1$$\n",
    "\n",
    "\n",
    "\n",
    "**Factorial Rules/Operations:**\n",
    "- Negative numbers do not have a factorial.\n",
    "- $0! = 1$\n",
    "- $n! = (n-1)! \\cdot n$\n",
    "- $(n+1)! = n! \\cdot (n+1)$ \n",
    "\n",
    "- $ (n+k)! = n! \\cdot (n+1) \\cdot (n+2) \\cdot... (n+k) $\n",
    "\n",
    "- $ (n-k)! = \\frac{n!}{(n-k+1)\\cdot(n-k+2) \\cdot ... (n-k+k) }$\n",
    "- When $n>k$:\n",
    "    - $\\frac{n!}{k!} = (k+1)\\cdot(k+2)\\cdot...n $"
   ]
  },
  {
   "cell_type": "markdown",
   "metadata": {
    "colab_type": "text",
    "hidden": true,
    "id": "KBImNzwvXb_v"
   },
   "source": [
    "## Permutations of a subset / AKA Permutations without replacement"
   ]
  },
  {
   "cell_type": "markdown",
   "metadata": {
    "colab_type": "text",
    "hidden": true,
    "id": "KBImNzwvXb_v"
   },
   "source": [
    "> ***How many ways to select $k$ elements out of a pool of $n$ objects?***\n",
    "\n",
    "$$ \\large P_{k}^{n}= \\dfrac{n!}{(n-k)!}$$ \n",
    "\n",
    "this is known as the **$k$-permutation of $n$**"
   ]
  },
  {
   "cell_type": "markdown",
   "metadata": {
    "colab_type": "text",
    "hidden": true,
    "id": "KBImNzwvXb_v"
   },
   "source": [
    "## Permutations with replacement "
   ]
  },
  {
   "cell_type": "markdown",
   "metadata": {
    "colab_type": "text",
    "hidden": true,
    "id": "KBImNzwvXb_v"
   },
   "source": [
    "$$ \\large {P}_{j}^{n} = n^j $$\n",
    "- where $n$ = total number of elements\n",
    "- $j$ = number of positions to fill   "
   ]
  },
  {
   "cell_type": "markdown",
   "metadata": {
    "colab_type": "text",
    "hidden": true,
    "id": "KBImNzwvXb_v"
   },
   "source": [
    "## Permutations with repetition"
   ]
  },
  {
   "cell_type": "markdown",
   "metadata": {
    "colab_type": "text",
    "hidden": true,
    "id": "KBImNzwvXb_v"
   },
   "source": [
    "- Permutation where there are some elements that may appear multiple times. \n",
    "    - i.e. looking at the word TENNESSEE by itself, you can swap the 3rd and the 4th letter and have the same word. So the total number is less than $9!$.\n",
    "    \n",
    "    - The solution is to divide $9!$ by the factorials for each letter that is repeated!\n",
    "    - The answer here is then (9 letters, 4 x E, 2 x N, 2 x S)\n",
    "\n",
    "    - $\\dfrac{9!}{4!2!2!} = 3780$\n",
    "\n",
    "The general formula can be written as:\n",
    "\n",
    "$$\\dfrac{n!}{n_1!n_2!\\ldots n_j!}$$\n",
    "\n",
    "where $n_j$ stands for identical objects of type $j$ (the distinct letters in our TENNESSEE example). "
   ]
  },
  {
   "cell_type": "markdown",
   "metadata": {
    "colab_type": "text",
    "heading_collapsed": true,
    "id": "opLA_RcuXb9h"
   },
   "source": [
    "# Combinations"
   ]
  },
  {
   "cell_type": "markdown",
   "metadata": {
    "colab_type": "text",
    "hidden": true,
    "id": "opLA_RcuXb9h"
   },
   "source": [
    "- How many ways can we create a subset $k$ out of $n$ objects, when order is not important? \n",
    "\n",
    "\n",
    "$$\\large C_{k}^{n} = \\displaystyle\\binom{n}{k} = \\dfrac{P_{k}^{n}}{k!}=\\dfrac{ \\dfrac{n!}{(n-k)!}}{k!} = \\dfrac{n!}{(n-k)!k!}$$"
   ]
  },
  {
   "cell_type": "markdown",
   "metadata": {},
   "source": [
    "# EXAMPLE PROBLEMS"
   ]
  },
  {
   "cell_type": "code",
   "execution_count": 1,
   "metadata": {
    "ExecuteTime": {
     "end_time": "2020-06-10T21:44:06.425986Z",
     "start_time": "2020-06-10T21:43:59.432038Z"
    },
    "colab": {},
    "colab_type": "code",
    "id": "HhbtNsyeXQIm",
    "scrolled": true
   },
   "outputs": [
    {
     "name": "stdout",
     "output_type": "stream",
     "text": [
      "fsds v0.2.10 loaded.  Read the docs: https://fs-ds.readthedocs.io/en/latest/ \n"
     ]
    },
    {
     "data": {
      "text/html": [
       "<style  type=\"text/css\" >\n",
       "</style><table id=\"T_82481d74_ab63_11ea_9dd8_4865ee12e626\" ><caption>Loaded Packages and Handles</caption><thead>    <tr>        <th class=\"col_heading level0 col0\" >Handle</th>        <th class=\"col_heading level0 col1\" >Package</th>        <th class=\"col_heading level0 col2\" >Description</th>    </tr></thead><tbody>\n",
       "                <tr>\n",
       "                                <td id=\"T_82481d74_ab63_11ea_9dd8_4865ee12e626row0_col0\" class=\"data row0 col0\" >dp</td>\n",
       "                        <td id=\"T_82481d74_ab63_11ea_9dd8_4865ee12e626row0_col1\" class=\"data row0 col1\" >IPython.display</td>\n",
       "                        <td id=\"T_82481d74_ab63_11ea_9dd8_4865ee12e626row0_col2\" class=\"data row0 col2\" >Display modules with helpful display and clearing commands.</td>\n",
       "            </tr>\n",
       "            <tr>\n",
       "                                <td id=\"T_82481d74_ab63_11ea_9dd8_4865ee12e626row1_col0\" class=\"data row1 col0\" >fs</td>\n",
       "                        <td id=\"T_82481d74_ab63_11ea_9dd8_4865ee12e626row1_col1\" class=\"data row1 col1\" >fsds</td>\n",
       "                        <td id=\"T_82481d74_ab63_11ea_9dd8_4865ee12e626row1_col2\" class=\"data row1 col2\" >Custom data science bootcamp student package</td>\n",
       "            </tr>\n",
       "            <tr>\n",
       "                                <td id=\"T_82481d74_ab63_11ea_9dd8_4865ee12e626row2_col0\" class=\"data row2 col0\" >mpl</td>\n",
       "                        <td id=\"T_82481d74_ab63_11ea_9dd8_4865ee12e626row2_col1\" class=\"data row2 col1\" >matplotlib</td>\n",
       "                        <td id=\"T_82481d74_ab63_11ea_9dd8_4865ee12e626row2_col2\" class=\"data row2 col2\" >Matplotlib's base OOP module with formatting artists</td>\n",
       "            </tr>\n",
       "            <tr>\n",
       "                                <td id=\"T_82481d74_ab63_11ea_9dd8_4865ee12e626row3_col0\" class=\"data row3 col0\" >plt</td>\n",
       "                        <td id=\"T_82481d74_ab63_11ea_9dd8_4865ee12e626row3_col1\" class=\"data row3 col1\" >matplotlib.pyplot</td>\n",
       "                        <td id=\"T_82481d74_ab63_11ea_9dd8_4865ee12e626row3_col2\" class=\"data row3 col2\" >Matplotlib's matlab-like plotting module</td>\n",
       "            </tr>\n",
       "            <tr>\n",
       "                                <td id=\"T_82481d74_ab63_11ea_9dd8_4865ee12e626row4_col0\" class=\"data row4 col0\" >np</td>\n",
       "                        <td id=\"T_82481d74_ab63_11ea_9dd8_4865ee12e626row4_col1\" class=\"data row4 col1\" >numpy</td>\n",
       "                        <td id=\"T_82481d74_ab63_11ea_9dd8_4865ee12e626row4_col2\" class=\"data row4 col2\" >scientific computing with Python</td>\n",
       "            </tr>\n",
       "            <tr>\n",
       "                                <td id=\"T_82481d74_ab63_11ea_9dd8_4865ee12e626row5_col0\" class=\"data row5 col0\" >pd</td>\n",
       "                        <td id=\"T_82481d74_ab63_11ea_9dd8_4865ee12e626row5_col1\" class=\"data row5 col1\" >pandas</td>\n",
       "                        <td id=\"T_82481d74_ab63_11ea_9dd8_4865ee12e626row5_col2\" class=\"data row5 col2\" >High performance data structures and tools</td>\n",
       "            </tr>\n",
       "            <tr>\n",
       "                                <td id=\"T_82481d74_ab63_11ea_9dd8_4865ee12e626row6_col0\" class=\"data row6 col0\" >sns</td>\n",
       "                        <td id=\"T_82481d74_ab63_11ea_9dd8_4865ee12e626row6_col1\" class=\"data row6 col1\" >seaborn</td>\n",
       "                        <td id=\"T_82481d74_ab63_11ea_9dd8_4865ee12e626row6_col2\" class=\"data row6 col2\" >High-level data visualization library based on matplotlib</td>\n",
       "            </tr>\n",
       "    </tbody></table>"
      ],
      "text/plain": [
       "<pandas.io.formats.style.Styler at 0x1a1d5a2ac8>"
      ]
     },
     "metadata": {},
     "output_type": "display_data"
    }
   ],
   "source": [
    "!pip install -U fsds\n",
    "\n",
    "from fsds.imports import *\n",
    "from math import factorial"
   ]
  },
  {
   "cell_type": "markdown",
   "metadata": {
    "ExecuteTime": {
     "end_time": "2020-01-06T22:53:10.213591Z",
     "start_time": "2020-01-06T22:53:10.211467Z"
    }
   },
   "source": [
    "## Playlist Permutations"
   ]
  },
  {
   "cell_type": "markdown",
   "metadata": {},
   "source": [
    "- We are constructing a dinner party playlist for a gathering we are planning. \n",
    "- We asked our attendees to each provide a handful of songs they would like to be played at the dinner party."
   ]
  },
  {
   "cell_type": "code",
   "execution_count": 2,
   "metadata": {
    "ExecuteTime": {
     "end_time": "2020-06-10T01:21:34.253440Z",
     "start_time": "2020-06-10T01:21:34.232918Z"
    }
   },
   "outputs": [
    {
     "data": {
      "text/plain": [
       "dict_keys(['joe_recs', 'james_recs', 'anne_recs', 'john_recs', 'samantha_recs'])"
      ]
     },
     "execution_count": 2,
     "metadata": {},
     "output_type": "execute_result"
    }
   ],
   "source": [
    "import os,glob\n",
    "datafolder = \"../../datasets/probability_playlists/\"\n",
    "rec_files = glob.glob(datafolder+\"*.csv\")\n",
    "\n",
    "playlists = {}\n",
    "for file in rec_files:\n",
    "    key = os.path.basename(file).replace('.csv','')\n",
    "    playlists[key] = pd.read_csv(file)\n",
    "playlists.keys()"
   ]
  },
  {
   "cell_type": "code",
   "execution_count": 3,
   "metadata": {
    "ExecuteTime": {
     "end_time": "2020-06-10T01:21:35.251503Z",
     "start_time": "2020-06-10T01:21:35.235876Z"
    }
   },
   "outputs": [
    {
     "data": {
      "text/html": [
       "<style  type=\"text/css\" >\n",
       "</style><table id=\"T_b993a82e_aab8_11ea_80a3_acde48001122\" ><caption>JOHN</caption><thead>    <tr>        <th class=\"blank level0\" ></th>        <th class=\"col_heading level0 col0\" >artist</th>        <th class=\"col_heading level0 col1\" >track</th>        <th class=\"col_heading level0 col2\" >Recommended By</th>    </tr></thead><tbody>\n",
       "                <tr>\n",
       "                        <th id=\"T_b993a82e_aab8_11ea_80a3_acde48001122level0_row0\" class=\"row_heading level0 row0\" >0</th>\n",
       "                        <td id=\"T_b993a82e_aab8_11ea_80a3_acde48001122row0_col0\" class=\"data row0 col0\" >Black Eyed Peas</td>\n",
       "                        <td id=\"T_b993a82e_aab8_11ea_80a3_acde48001122row0_col1\" class=\"data row0 col1\" >Let's Get it Started</td>\n",
       "                        <td id=\"T_b993a82e_aab8_11ea_80a3_acde48001122row0_col2\" class=\"data row0 col2\" >John</td>\n",
       "            </tr>\n",
       "            <tr>\n",
       "                        <th id=\"T_b993a82e_aab8_11ea_80a3_acde48001122level0_row1\" class=\"row_heading level0 row1\" >1</th>\n",
       "                        <td id=\"T_b993a82e_aab8_11ea_80a3_acde48001122row1_col0\" class=\"data row1 col0\" >Lady GaGa</td>\n",
       "                        <td id=\"T_b993a82e_aab8_11ea_80a3_acde48001122row1_col1\" class=\"data row1 col1\" >Poker Face</td>\n",
       "                        <td id=\"T_b993a82e_aab8_11ea_80a3_acde48001122row1_col2\" class=\"data row1 col2\" >John</td>\n",
       "            </tr>\n",
       "            <tr>\n",
       "                        <th id=\"T_b993a82e_aab8_11ea_80a3_acde48001122level0_row2\" class=\"row_heading level0 row2\" >2</th>\n",
       "                        <td id=\"T_b993a82e_aab8_11ea_80a3_acde48001122row2_col0\" class=\"data row2 col0\" >Lady GaGa</td>\n",
       "                        <td id=\"T_b993a82e_aab8_11ea_80a3_acde48001122row2_col1\" class=\"data row2 col1\" >Bad Romance</td>\n",
       "                        <td id=\"T_b993a82e_aab8_11ea_80a3_acde48001122row2_col2\" class=\"data row2 col2\" >John</td>\n",
       "            </tr>\n",
       "            <tr>\n",
       "                        <th id=\"T_b993a82e_aab8_11ea_80a3_acde48001122level0_row3\" class=\"row_heading level0 row3\" >3</th>\n",
       "                        <td id=\"T_b993a82e_aab8_11ea_80a3_acde48001122row3_col0\" class=\"data row3 col0\" >Lady GaGa</td>\n",
       "                        <td id=\"T_b993a82e_aab8_11ea_80a3_acde48001122row3_col1\" class=\"data row3 col1\" >Just Dance</td>\n",
       "                        <td id=\"T_b993a82e_aab8_11ea_80a3_acde48001122row3_col2\" class=\"data row3 col2\" >John</td>\n",
       "            </tr>\n",
       "    </tbody></table>"
      ],
      "text/plain": [
       "<pandas.io.formats.style.Styler at 0x1a1bb34400>"
      ]
     },
     "metadata": {},
     "output_type": "display_data"
    },
    {
     "data": {
      "text/html": [
       "<style  type=\"text/css\" >\n",
       "</style><table id=\"T_b9940e90_aab8_11ea_89af_acde48001122\" ><caption>ANN</caption><thead>    <tr>        <th class=\"blank level0\" ></th>        <th class=\"col_heading level0 col0\" >artist</th>        <th class=\"col_heading level0 col1\" >track</th>        <th class=\"col_heading level0 col2\" >Recommended By</th>    </tr></thead><tbody>\n",
       "                <tr>\n",
       "                        <th id=\"T_b9940e90_aab8_11ea_89af_acde48001122level0_row0\" class=\"row_heading level0 row0\" >0</th>\n",
       "                        <td id=\"T_b9940e90_aab8_11ea_89af_acde48001122row0_col0\" class=\"data row0 col0\" >Smashing Pumpkins</td>\n",
       "                        <td id=\"T_b9940e90_aab8_11ea_89af_acde48001122row0_col1\" class=\"data row0 col1\" >Tonight, Tonight</td>\n",
       "                        <td id=\"T_b9940e90_aab8_11ea_89af_acde48001122row0_col2\" class=\"data row0 col2\" >Anne</td>\n",
       "            </tr>\n",
       "            <tr>\n",
       "                        <th id=\"T_b9940e90_aab8_11ea_89af_acde48001122level0_row1\" class=\"row_heading level0 row1\" >1</th>\n",
       "                        <td id=\"T_b9940e90_aab8_11ea_89af_acde48001122row1_col0\" class=\"data row1 col0\" >Black Eyed Peas</td>\n",
       "                        <td id=\"T_b9940e90_aab8_11ea_89af_acde48001122row1_col1\" class=\"data row1 col1\" >Let's Get it Started</td>\n",
       "                        <td id=\"T_b9940e90_aab8_11ea_89af_acde48001122row1_col2\" class=\"data row1 col2\" >Anne</td>\n",
       "            </tr>\n",
       "            <tr>\n",
       "                        <th id=\"T_b9940e90_aab8_11ea_89af_acde48001122level0_row2\" class=\"row_heading level0 row2\" >2</th>\n",
       "                        <td id=\"T_b9940e90_aab8_11ea_89af_acde48001122row2_col0\" class=\"data row2 col0\" >Green Day</td>\n",
       "                        <td id=\"T_b9940e90_aab8_11ea_89af_acde48001122row2_col1\" class=\"data row2 col1\" >Time of your Life</td>\n",
       "                        <td id=\"T_b9940e90_aab8_11ea_89af_acde48001122row2_col2\" class=\"data row2 col2\" >Anne</td>\n",
       "            </tr>\n",
       "    </tbody></table>"
      ],
      "text/plain": [
       "<pandas.io.formats.style.Styler at 0x1a18c26208>"
      ]
     },
     "metadata": {},
     "output_type": "display_data"
    },
    {
     "data": {
      "text/html": [
       "<style  type=\"text/css\" >\n",
       "</style><table id=\"T_b994675a_aab8_11ea_8a84_acde48001122\" ><caption>JAMES</caption><thead>    <tr>        <th class=\"blank level0\" ></th>        <th class=\"col_heading level0 col0\" >artist</th>        <th class=\"col_heading level0 col1\" >track</th>        <th class=\"col_heading level0 col2\" >Recommended By</th>    </tr></thead><tbody>\n",
       "                <tr>\n",
       "                        <th id=\"T_b994675a_aab8_11ea_8a84_acde48001122level0_row0\" class=\"row_heading level0 row0\" >0</th>\n",
       "                        <td id=\"T_b994675a_aab8_11ea_8a84_acde48001122row0_col0\" class=\"data row0 col0\" >Eve 6</td>\n",
       "                        <td id=\"T_b994675a_aab8_11ea_8a84_acde48001122row0_col1\" class=\"data row0 col1\" >Here's to the Night</td>\n",
       "                        <td id=\"T_b994675a_aab8_11ea_8a84_acde48001122row0_col2\" class=\"data row0 col2\" >James</td>\n",
       "            </tr>\n",
       "            <tr>\n",
       "                        <th id=\"T_b994675a_aab8_11ea_8a84_acde48001122level0_row1\" class=\"row_heading level0 row1\" >1</th>\n",
       "                        <td id=\"T_b994675a_aab8_11ea_8a84_acde48001122row1_col0\" class=\"data row1 col0\" >Neutral Milk Hotel</td>\n",
       "                        <td id=\"T_b994675a_aab8_11ea_8a84_acde48001122row1_col1\" class=\"data row1 col1\" >Into the Aeroplane Over the Sea</td>\n",
       "                        <td id=\"T_b994675a_aab8_11ea_8a84_acde48001122row1_col2\" class=\"data row1 col2\" >James</td>\n",
       "            </tr>\n",
       "            <tr>\n",
       "                        <th id=\"T_b994675a_aab8_11ea_8a84_acde48001122level0_row2\" class=\"row_heading level0 row2\" >2</th>\n",
       "                        <td id=\"T_b994675a_aab8_11ea_8a84_acde48001122row2_col0\" class=\"data row2 col0\" >Rilo Kiley</td>\n",
       "                        <td id=\"T_b994675a_aab8_11ea_8a84_acde48001122row2_col1\" class=\"data row2 col1\" >With Arms Outstretched</td>\n",
       "                        <td id=\"T_b994675a_aab8_11ea_8a84_acde48001122row2_col2\" class=\"data row2 col2\" >James</td>\n",
       "            </tr>\n",
       "            <tr>\n",
       "                        <th id=\"T_b994675a_aab8_11ea_8a84_acde48001122level0_row3\" class=\"row_heading level0 row3\" >3</th>\n",
       "                        <td id=\"T_b994675a_aab8_11ea_8a84_acde48001122row3_col0\" class=\"data row3 col0\" >Red Hot Chili Peppers</td>\n",
       "                        <td id=\"T_b994675a_aab8_11ea_8a84_acde48001122row3_col1\" class=\"data row3 col1\" >Otherside</td>\n",
       "                        <td id=\"T_b994675a_aab8_11ea_8a84_acde48001122row3_col2\" class=\"data row3 col2\" >James</td>\n",
       "            </tr>\n",
       "    </tbody></table>"
      ],
      "text/plain": [
       "<pandas.io.formats.style.Styler at 0x1a1b8878d0>"
      ]
     },
     "metadata": {},
     "output_type": "display_data"
    },
    {
     "data": {
      "text/html": [
       "<style  type=\"text/css\" >\n",
       "</style><table id=\"T_b994c74a_aab8_11ea_8fff_acde48001122\" ><caption>Samantha</caption><thead>    <tr>        <th class=\"blank level0\" ></th>        <th class=\"col_heading level0 col0\" >artist</th>        <th class=\"col_heading level0 col1\" >track</th>        <th class=\"col_heading level0 col2\" >Recommended By</th>    </tr></thead><tbody>\n",
       "                <tr>\n",
       "                        <th id=\"T_b994c74a_aab8_11ea_8fff_acde48001122level0_row0\" class=\"row_heading level0 row0\" >0</th>\n",
       "                        <td id=\"T_b994c74a_aab8_11ea_8fff_acde48001122row0_col0\" class=\"data row0 col0\" >Black Eyed Peas</td>\n",
       "                        <td id=\"T_b994c74a_aab8_11ea_8fff_acde48001122row0_col1\" class=\"data row0 col1\" >Let's Get it Started</td>\n",
       "                        <td id=\"T_b994c74a_aab8_11ea_8fff_acde48001122row0_col2\" class=\"data row0 col2\" >Samantha</td>\n",
       "            </tr>\n",
       "            <tr>\n",
       "                        <th id=\"T_b994c74a_aab8_11ea_8fff_acde48001122level0_row1\" class=\"row_heading level0 row1\" >1</th>\n",
       "                        <td id=\"T_b994c74a_aab8_11ea_8fff_acde48001122row1_col0\" class=\"data row1 col0\" >Panic at the Disco</td>\n",
       "                        <td id=\"T_b994c74a_aab8_11ea_8fff_acde48001122row1_col1\" class=\"data row1 col1\" >Hallelujah</td>\n",
       "                        <td id=\"T_b994c74a_aab8_11ea_8fff_acde48001122row1_col2\" class=\"data row1 col2\" >Samantha</td>\n",
       "            </tr>\n",
       "            <tr>\n",
       "                        <th id=\"T_b994c74a_aab8_11ea_8fff_acde48001122level0_row2\" class=\"row_heading level0 row2\" >2</th>\n",
       "                        <td id=\"T_b994c74a_aab8_11ea_8fff_acde48001122row2_col0\" class=\"data row2 col0\" >Adele</td>\n",
       "                        <td id=\"T_b994c74a_aab8_11ea_8fff_acde48001122row2_col1\" class=\"data row2 col1\" >Set Fire to the Rain</td>\n",
       "                        <td id=\"T_b994c74a_aab8_11ea_8fff_acde48001122row2_col2\" class=\"data row2 col2\" >Samantha</td>\n",
       "            </tr>\n",
       "    </tbody></table>"
      ],
      "text/plain": [
       "<pandas.io.formats.style.Styler at 0x1a18c26208>"
      ]
     },
     "metadata": {},
     "output_type": "display_data"
    },
    {
     "data": {
      "text/html": [
       "<style  type=\"text/css\" >\n",
       "</style><table id=\"T_b9951876_aab8_11ea_a622_acde48001122\" ><caption>Joe</caption><thead>    <tr>        <th class=\"blank level0\" ></th>        <th class=\"col_heading level0 col0\" >artist</th>        <th class=\"col_heading level0 col1\" >track</th>        <th class=\"col_heading level0 col2\" >Recommended By</th>    </tr></thead><tbody>\n",
       "                <tr>\n",
       "                        <th id=\"T_b9951876_aab8_11ea_a622_acde48001122level0_row0\" class=\"row_heading level0 row0\" >0</th>\n",
       "                        <td id=\"T_b9951876_aab8_11ea_a622_acde48001122row0_col0\" class=\"data row0 col0\" >Green Day</td>\n",
       "                        <td id=\"T_b9951876_aab8_11ea_a622_acde48001122row0_col1\" class=\"data row0 col1\" >Time of your Life</td>\n",
       "                        <td id=\"T_b9951876_aab8_11ea_a622_acde48001122row0_col2\" class=\"data row0 col2\" >Joe</td>\n",
       "            </tr>\n",
       "            <tr>\n",
       "                        <th id=\"T_b9951876_aab8_11ea_a622_acde48001122level0_row1\" class=\"row_heading level0 row1\" >1</th>\n",
       "                        <td id=\"T_b9951876_aab8_11ea_a622_acde48001122row1_col0\" class=\"data row1 col0\" >B-52s</td>\n",
       "                        <td id=\"T_b9951876_aab8_11ea_a622_acde48001122row1_col1\" class=\"data row1 col1\" >Rock Lobster</td>\n",
       "                        <td id=\"T_b9951876_aab8_11ea_a622_acde48001122row1_col2\" class=\"data row1 col2\" >Joe</td>\n",
       "            </tr>\n",
       "            <tr>\n",
       "                        <th id=\"T_b9951876_aab8_11ea_a622_acde48001122level0_row2\" class=\"row_heading level0 row2\" >2</th>\n",
       "                        <td id=\"T_b9951876_aab8_11ea_a622_acde48001122row2_col0\" class=\"data row2 col0\" >Lady GaGa</td>\n",
       "                        <td id=\"T_b9951876_aab8_11ea_a622_acde48001122row2_col1\" class=\"data row2 col1\" >Poker Face</td>\n",
       "                        <td id=\"T_b9951876_aab8_11ea_a622_acde48001122row2_col2\" class=\"data row2 col2\" >Joe</td>\n",
       "            </tr>\n",
       "            <tr>\n",
       "                        <th id=\"T_b9951876_aab8_11ea_a622_acde48001122level0_row3\" class=\"row_heading level0 row3\" >3</th>\n",
       "                        <td id=\"T_b9951876_aab8_11ea_a622_acde48001122row3_col0\" class=\"data row3 col0\" >John Lennon</td>\n",
       "                        <td id=\"T_b9951876_aab8_11ea_a622_acde48001122row3_col1\" class=\"data row3 col1\" >Imagine</td>\n",
       "                        <td id=\"T_b9951876_aab8_11ea_a622_acde48001122row3_col2\" class=\"data row3 col2\" >Joe</td>\n",
       "            </tr>\n",
       "    </tbody></table>"
      ],
      "text/plain": [
       "<pandas.io.formats.style.Styler at 0x1a1bb34748>"
      ]
     },
     "metadata": {},
     "output_type": "display_data"
    }
   ],
   "source": [
    "df_john_recs = playlists['john_recs']\n",
    "display(df_john_recs.style.set_caption('JOHN'))\n",
    "\n",
    "df_anne_recs = playlists['anne_recs']\n",
    "display(df_anne_recs.style.set_caption('ANN'))\n",
    "\n",
    "df_james_recs = playlists['james_recs']\n",
    "display(df_james_recs.style.set_caption('JAMES'))\n",
    "\n",
    "df_samantha_recs = playlists['samantha_recs']\n",
    "display(df_samantha_recs.style.set_caption('Samantha'))\n",
    "\n",
    "df_joe_recs = playlists['joe_recs']\n",
    "display(df_joe_recs.style.set_caption('Joe'))"
   ]
  },
  {
   "cell_type": "code",
   "execution_count": 4,
   "metadata": {
    "ExecuteTime": {
     "end_time": "2020-06-10T01:21:35.950493Z",
     "start_time": "2020-06-10T01:21:35.935119Z"
    }
   },
   "outputs": [
    {
     "data": {
      "text/html": [
       "<div>\n",
       "<style scoped>\n",
       "    .dataframe tbody tr th:only-of-type {\n",
       "        vertical-align: middle;\n",
       "    }\n",
       "\n",
       "    .dataframe tbody tr th {\n",
       "        vertical-align: top;\n",
       "    }\n",
       "\n",
       "    .dataframe thead th {\n",
       "        text-align: right;\n",
       "    }\n",
       "</style>\n",
       "<table border=\"1\" class=\"dataframe\">\n",
       "  <thead>\n",
       "    <tr style=\"text-align: right;\">\n",
       "      <th></th>\n",
       "      <th>artist</th>\n",
       "      <th>track</th>\n",
       "      <th>Recommended By</th>\n",
       "    </tr>\n",
       "  </thead>\n",
       "  <tbody>\n",
       "    <tr>\n",
       "      <td>0</td>\n",
       "      <td>Black Eyed Peas</td>\n",
       "      <td>Let's Get it Started</td>\n",
       "      <td>John</td>\n",
       "    </tr>\n",
       "    <tr>\n",
       "      <td>1</td>\n",
       "      <td>Lady GaGa</td>\n",
       "      <td>Poker Face</td>\n",
       "      <td>John</td>\n",
       "    </tr>\n",
       "    <tr>\n",
       "      <td>2</td>\n",
       "      <td>Lady GaGa</td>\n",
       "      <td>Bad Romance</td>\n",
       "      <td>John</td>\n",
       "    </tr>\n",
       "    <tr>\n",
       "      <td>3</td>\n",
       "      <td>Lady GaGa</td>\n",
       "      <td>Just Dance</td>\n",
       "      <td>John</td>\n",
       "    </tr>\n",
       "    <tr>\n",
       "      <td>0</td>\n",
       "      <td>Smashing Pumpkins</td>\n",
       "      <td>Tonight, Tonight</td>\n",
       "      <td>Anne</td>\n",
       "    </tr>\n",
       "    <tr>\n",
       "      <td>1</td>\n",
       "      <td>Black Eyed Peas</td>\n",
       "      <td>Let's Get it Started</td>\n",
       "      <td>Anne</td>\n",
       "    </tr>\n",
       "    <tr>\n",
       "      <td>2</td>\n",
       "      <td>Green Day</td>\n",
       "      <td>Time of your Life</td>\n",
       "      <td>Anne</td>\n",
       "    </tr>\n",
       "    <tr>\n",
       "      <td>0</td>\n",
       "      <td>Green Day</td>\n",
       "      <td>Time of your Life</td>\n",
       "      <td>Joe</td>\n",
       "    </tr>\n",
       "    <tr>\n",
       "      <td>1</td>\n",
       "      <td>B-52s</td>\n",
       "      <td>Rock Lobster</td>\n",
       "      <td>Joe</td>\n",
       "    </tr>\n",
       "    <tr>\n",
       "      <td>2</td>\n",
       "      <td>Lady GaGa</td>\n",
       "      <td>Poker Face</td>\n",
       "      <td>Joe</td>\n",
       "    </tr>\n",
       "    <tr>\n",
       "      <td>3</td>\n",
       "      <td>John Lennon</td>\n",
       "      <td>Imagine</td>\n",
       "      <td>Joe</td>\n",
       "    </tr>\n",
       "    <tr>\n",
       "      <td>0</td>\n",
       "      <td>Black Eyed Peas</td>\n",
       "      <td>Let's Get it Started</td>\n",
       "      <td>Samantha</td>\n",
       "    </tr>\n",
       "    <tr>\n",
       "      <td>1</td>\n",
       "      <td>Panic at the Disco</td>\n",
       "      <td>Hallelujah</td>\n",
       "      <td>Samantha</td>\n",
       "    </tr>\n",
       "    <tr>\n",
       "      <td>2</td>\n",
       "      <td>Adele</td>\n",
       "      <td>Set Fire to the Rain</td>\n",
       "      <td>Samantha</td>\n",
       "    </tr>\n",
       "    <tr>\n",
       "      <td>0</td>\n",
       "      <td>Eve 6</td>\n",
       "      <td>Here's to the Night</td>\n",
       "      <td>James</td>\n",
       "    </tr>\n",
       "    <tr>\n",
       "      <td>1</td>\n",
       "      <td>Neutral Milk Hotel</td>\n",
       "      <td>Into the Aeroplane Over the Sea</td>\n",
       "      <td>James</td>\n",
       "    </tr>\n",
       "    <tr>\n",
       "      <td>2</td>\n",
       "      <td>Rilo Kiley</td>\n",
       "      <td>With Arms Outstretched</td>\n",
       "      <td>James</td>\n",
       "    </tr>\n",
       "    <tr>\n",
       "      <td>3</td>\n",
       "      <td>Red Hot Chili Peppers</td>\n",
       "      <td>Otherside</td>\n",
       "      <td>James</td>\n",
       "    </tr>\n",
       "  </tbody>\n",
       "</table>\n",
       "</div>"
      ],
      "text/plain": [
       "                  artist                            track Recommended By\n",
       "0        Black Eyed Peas             Let's Get it Started           John\n",
       "1              Lady GaGa                       Poker Face           John\n",
       "2              Lady GaGa                      Bad Romance           John\n",
       "3              Lady GaGa                       Just Dance           John\n",
       "0      Smashing Pumpkins                 Tonight, Tonight           Anne\n",
       "1        Black Eyed Peas             Let's Get it Started           Anne\n",
       "2              Green Day                Time of your Life           Anne\n",
       "0              Green Day                Time of your Life            Joe\n",
       "1                  B-52s                     Rock Lobster            Joe\n",
       "2              Lady GaGa                       Poker Face            Joe\n",
       "3            John Lennon                          Imagine            Joe\n",
       "0        Black Eyed Peas             Let's Get it Started       Samantha\n",
       "1     Panic at the Disco                       Hallelujah       Samantha\n",
       "2                  Adele             Set Fire to the Rain       Samantha\n",
       "0                  Eve 6              Here's to the Night          James\n",
       "1     Neutral Milk Hotel  Into the Aeroplane Over the Sea          James\n",
       "2             Rilo Kiley           With Arms Outstretched          James\n",
       "3  Red Hot Chili Peppers                        Otherside          James"
      ]
     },
     "execution_count": 4,
     "metadata": {},
     "output_type": "execute_result"
    }
   ],
   "source": [
    "df = pd.concat([df_john_recs,df_anne_recs,\n",
    "                df_joe_recs,df_samantha_recs,\n",
    "               df_james_recs],axis=0)\n",
    "df"
   ]
  },
  {
   "cell_type": "code",
   "execution_count": 5,
   "metadata": {
    "ExecuteTime": {
     "end_time": "2020-06-10T01:21:36.915982Z",
     "start_time": "2020-06-10T01:21:36.910713Z"
    }
   },
   "outputs": [
    {
     "name": "stdout",
     "output_type": "stream",
     "text": [
      "14 12\n"
     ]
    },
    {
     "data": {
      "text/plain": [
       "{'Bad Romance',\n",
       " 'Hallelujah',\n",
       " \"Here's to the Night\",\n",
       " 'Imagine',\n",
       " 'Into the Aeroplane Over the Sea',\n",
       " 'Just Dance',\n",
       " \"Let's Get it Started\",\n",
       " 'Otherside',\n",
       " 'Poker Face',\n",
       " 'Rock Lobster',\n",
       " 'Set Fire to the Rain',\n",
       " 'Time of your Life',\n",
       " 'Tonight, Tonight',\n",
       " 'With Arms Outstretched'}"
      ]
     },
     "execution_count": 5,
     "metadata": {},
     "output_type": "execute_result"
    }
   ],
   "source": [
    "## Making Sample Spaces for Tracks and artists\n",
    "sTracks = set(df['track'])\n",
    "sArtists = set(df['artist'])\n",
    "\n",
    "print(len(sTracks),len(sArtists))\n",
    "sTracks#,sArtists"
   ]
  },
  {
   "cell_type": "markdown",
   "metadata": {},
   "source": [
    "### Q1: How many different ways could we build a playlist using everyone's recommendations (without shuffle, no looping, and no repeated songs)?"
   ]
  },
  {
   "cell_type": "markdown",
   "metadata": {
    "ExecuteTime": {
     "end_time": "2020-01-07T22:40:05.942473Z",
     "start_time": "2020-01-07T22:40:05.940474Z"
    }
   },
   "source": [
    "- Q: Combination or permutation?\n",
    "    -  Permutation"
   ]
  },
  {
   "cell_type": "markdown",
   "metadata": {
    "ExecuteTime": {
     "end_time": "2020-01-07T22:40:05.942473Z",
     "start_time": "2020-01-07T22:40:05.940474Z"
    }
   },
   "source": [
    "- Q: What formula would we use?\n",
    " $$\\large P(n) = n!$$"
   ]
  },
  {
   "cell_type": "code",
   "execution_count": null,
   "metadata": {
    "ExecuteTime": {
     "end_time": "2020-01-07T23:47:38.562383Z",
     "start_time": "2020-01-07T23:47:38.558687Z"
    }
   },
   "outputs": [],
   "source": [
    "from math import factorial\n",
    "\"{:,}\".format(factorial(len(sTracks)))"
   ]
  },
  {
   "cell_type": "markdown",
   "metadata": {},
   "source": [
    "### Q2: What if we limit the playlist to only 10 songs, without replacement?"
   ]
  },
  {
   "cell_type": "markdown",
   "metadata": {
    "ExecuteTime": {
     "end_time": "2020-01-07T22:40:05.942473Z",
     "start_time": "2020-01-07T22:40:05.940474Z"
    }
   },
   "source": [
    "- Q: Combination or permutation?\n",
    "    - Permutation"
   ]
  },
  {
   "cell_type": "markdown",
   "metadata": {
    "ExecuteTime": {
     "end_time": "2020-01-07T22:40:05.942473Z",
     "start_time": "2020-01-07T22:40:05.940474Z"
    }
   },
   "source": [
    "- Q: What formula would we use?\n",
    "$$ \\large P_{k}^{n}= \\dfrac{n!}{(n-k)!}$$ \n"
   ]
  },
  {
   "cell_type": "code",
   "execution_count": null,
   "metadata": {
    "ExecuteTime": {
     "end_time": "2020-01-07T23:49:26.860274Z",
     "start_time": "2020-01-07T23:49:26.856259Z"
    }
   },
   "outputs": [],
   "source": [
    "p_10_13 = factorial(13) / factorial(13-10)\n",
    "\"{:,}\".format(p_10_13)"
   ]
  },
  {
   "cell_type": "markdown",
   "metadata": {},
   "source": [
    "### Q3: what if we limit the playlist to 10 songs, WITH replacement?"
   ]
  },
  {
   "cell_type": "markdown",
   "metadata": {
    "ExecuteTime": {
     "end_time": "2020-01-07T22:40:05.942473Z",
     "start_time": "2020-01-07T22:40:05.940474Z"
    }
   },
   "source": [
    "- Q: Combination or permutation?\n",
    "    - Permutation"
   ]
  },
  {
   "cell_type": "markdown",
   "metadata": {
    "ExecuteTime": {
     "end_time": "2020-01-07T22:40:05.942473Z",
     "start_time": "2020-01-07T22:40:05.940474Z"
    }
   },
   "source": [
    "- Q: What formula would we use?\n",
    "$$ \\large {P}_{j}^{n} = n^j $$\n"
   ]
  },
  {
   "cell_type": "code",
   "execution_count": null,
   "metadata": {
    "ExecuteTime": {
     "end_time": "2020-01-07T23:51:42.326616Z",
     "start_time": "2020-01-07T23:51:42.323146Z"
    }
   },
   "outputs": [],
   "source": [
    "p_10_13R = 13**10\n",
    "\"{:,}\".format(p_10_13R)"
   ]
  },
  {
   "cell_type": "markdown",
   "metadata": {},
   "source": [
    "### Q4: what if we select 10 songs out of the total number of suggestions and allow for repitition?"
   ]
  },
  {
   "cell_type": "code",
   "execution_count": null,
   "metadata": {
    "ExecuteTime": {
     "end_time": "2020-01-07T23:52:58.397170Z",
     "start_time": "2020-01-07T23:52:58.387331Z"
    }
   },
   "outputs": [],
   "source": [
    "print(df['track'].value_counts().sum())\n",
    "df['track'].value_counts()"
   ]
  },
  {
   "cell_type": "markdown",
   "metadata": {
    "ExecuteTime": {
     "end_time": "2020-01-07T22:40:05.942473Z",
     "start_time": "2020-01-07T22:40:05.940474Z"
    }
   },
   "source": [
    "- Q: Combination or permutation?\n",
    "    - Permutation"
   ]
  },
  {
   "cell_type": "markdown",
   "metadata": {
    "ExecuteTime": {
     "end_time": "2020-01-07T22:40:05.942473Z",
     "start_time": "2020-01-07T22:40:05.940474Z"
    }
   },
   "source": [
    "- Q: What formula would we use?\n",
    "$$\\dfrac{n!}{n_1!n_2!\\ldots n_j!}$$\n"
   ]
  },
  {
   "cell_type": "code",
   "execution_count": null,
   "metadata": {
    "ExecuteTime": {
     "end_time": "2020-01-07T23:54:01.739885Z",
     "start_time": "2020-01-07T23:54:01.736041Z"
    }
   },
   "outputs": [],
   "source": [
    "p17R = factorial(17) / (factorial(3)*factorial(2)*factorial(2))\n",
    "\"{:,}\".format(p17R)"
   ]
  },
  {
   "cell_type": "markdown",
   "metadata": {},
   "source": [
    "## We realize we need to relax and not worry about the song-order. That's what Shuffle is for, right?"
   ]
  },
  {
   "cell_type": "markdown",
   "metadata": {},
   "source": [
    "### Q5: How many playlists can we produce for an 8-track playlist from the unique suggested songs (10)?"
   ]
  },
  {
   "cell_type": "markdown",
   "metadata": {
    "ExecuteTime": {
     "end_time": "2020-01-07T22:40:05.942473Z",
     "start_time": "2020-01-07T22:40:05.940474Z"
    }
   },
   "source": [
    "- Q: Combination or permutation?\n",
    "    - Combination"
   ]
  },
  {
   "cell_type": "markdown",
   "metadata": {
    "ExecuteTime": {
     "end_time": "2020-01-07T22:40:05.942473Z",
     "start_time": "2020-01-07T22:40:05.940474Z"
    }
   },
   "source": [
    "- Q: What formula would we use?\n",
    "$$\\large C_{k}^{n} = \\displaystyle\\binom{n}{k} = \\dfrac{P_{k}^{n}}{k!}=\\dfrac{ \\dfrac{n!}{(n-k)!}}{k!} = \\dfrac{n!}{(n-k)!k!}$$"
   ]
  },
  {
   "cell_type": "code",
   "execution_count": null,
   "metadata": {
    "ExecuteTime": {
     "end_time": "2020-01-07T23:56:27.942067Z",
     "start_time": "2020-01-07T23:56:27.936895Z"
    }
   },
   "outputs": [],
   "source": [
    "c_8_10 = factorial(10)/ (factorial((10-8))*factorial(8))\n",
    "\"{:,}\".format(c_8_10)"
   ]
  },
  {
   "cell_type": "code",
   "execution_count": null,
   "metadata": {},
   "outputs": [],
   "source": []
  },
  {
   "cell_type": "markdown",
   "metadata": {},
   "source": [
    "## Playlist Probabilities"
   ]
  },
  {
   "cell_type": "markdown",
   "metadata": {},
   "source": [
    "**If we just accept everyone's suggestions (full df) and play on shuffle:**"
   ]
  },
  {
   "cell_type": "markdown",
   "metadata": {},
   "source": [
    "- Q: What is the probability of hearing \"Let's Get it started\"?"
   ]
  },
  {
   "cell_type": "code",
   "execution_count": null,
   "metadata": {
    "ExecuteTime": {
     "end_time": "2020-01-07T23:59:00.378396Z",
     "start_time": "2020-01-07T23:59:00.372554Z"
    }
   },
   "outputs": [],
   "source": [
    "df['track'].value_counts()#sum()#sort_values('track')"
   ]
  },
  {
   "cell_type": "markdown",
   "metadata": {},
   "source": [
    "$$P(E) = |E| / |S|  $$"
   ]
  },
  {
   "cell_type": "code",
   "execution_count": null,
   "metadata": {
    "ExecuteTime": {
     "end_time": "2020-01-07T23:59:07.869518Z",
     "start_time": "2020-01-07T23:59:07.865065Z"
    }
   },
   "outputs": [],
   "source": [
    "3/17"
   ]
  },
  {
   "cell_type": "code",
   "execution_count": null,
   "metadata": {
    "ExecuteTime": {
     "end_time": "2020-01-08T00:00:31.497195Z",
     "start_time": "2020-01-08T00:00:31.489651Z"
    }
   },
   "outputs": [],
   "source": [
    "display(df['artist'].value_counts())\n",
    "df['artist'].value_counts().sum()\n"
   ]
  },
  {
   "cell_type": "markdown",
   "metadata": {},
   "source": [
    "- Q: What is the probability of playing a song by Lady GaGa?"
   ]
  },
  {
   "cell_type": "code",
   "execution_count": null,
   "metadata": {
    "ExecuteTime": {
     "end_time": "2020-01-08T00:00:05.625307Z",
     "start_time": "2020-01-08T00:00:05.621784Z"
    }
   },
   "outputs": [],
   "source": [
    "3/17"
   ]
  },
  {
   "cell_type": "markdown",
   "metadata": {},
   "source": [
    "## Conditional Probability"
   ]
  },
  {
   "cell_type": "code",
   "execution_count": null,
   "metadata": {
    "ExecuteTime": {
     "end_time": "2020-01-08T00:01:55.207327Z",
     "start_time": "2020-01-08T00:01:55.200384Z"
    }
   },
   "outputs": [],
   "source": [
    "df['track'].value_counts()"
   ]
  },
  {
   "cell_type": "code",
   "execution_count": null,
   "metadata": {
    "ExecuteTime": {
     "end_time": "2020-01-08T00:01:34.144249Z",
     "start_time": "2020-01-08T00:01:34.137137Z"
    }
   },
   "outputs": [],
   "source": [
    "display(df.groupby('artist')['track'].count())"
   ]
  },
  {
   "cell_type": "markdown",
   "metadata": {},
   "source": [
    "- What is the probability of playing Poker Face given that its a Lady GaGa song?\n",
    "\n",
    "$$ P(PokerFace|LadyGaga)$$"
   ]
  },
  {
   "cell_type": "code",
   "execution_count": null,
   "metadata": {
    "ExecuteTime": {
     "end_time": "2020-01-08T00:04:07.173629Z",
     "start_time": "2020-01-08T00:04:07.165831Z"
    }
   },
   "outputs": [],
   "source": [
    "df.groupby('artist').get_group('Lady GaGa')['track'].value_counts()"
   ]
  },
  {
   "cell_type": "code",
   "execution_count": null,
   "metadata": {
    "ExecuteTime": {
     "end_time": "2020-01-08T00:04:55.886609Z",
     "start_time": "2020-01-08T00:04:55.883253Z"
    }
   },
   "outputs": [],
   "source": [
    "# |s|=3 \n",
    "# |e| = 2\n",
    "2/3"
   ]
  },
  {
   "cell_type": "markdown",
   "metadata": {
    "heading_collapsed": true
   },
   "source": [
    "# Part 2: Independent, Dependent, and Disjoint Events\n"
   ]
  },
  {
   "cell_type": "markdown",
   "metadata": {
    "hidden": true
   },
   "source": [
    "### Indepdent Events"
   ]
  },
  {
   "cell_type": "markdown",
   "metadata": {
    "hidden": true
   },
   "source": [
    "#### If 2 indepedent events:\n",
    "\n",
    "**Events $A$ and $B$ are independent when the occurrence of $A$ has no effect on whether $B$ will occur (or not).**\n",
    "\n",
    "- A and B are independent if:\n",
    "    - $P(A \\cap B) = P(A)\\cdot P(B)$\n",
    "\n",
    " <img src=\"https://raw.githubusercontent.com/jirvingphd/dsc-conditional-probability-online-ds-ft-100719/master/images/Image_67_independent.png\" width=400>\n",
    "\n",
    "- Probability of A or B occurring:\n",
    "    - $P (A \\cup B) = P(A) + P(B) - P(A \\cap B)$\n",
    "\n",
    " Thus, in the case of two independent events, by substitution,\n",
    "\n",
    "$$P (A \\cup B) = P(A) + P(B) - P(A)P(B).$$\n",
    "\n",
    "#### If 3 independent events:\n",
    "- A, B, and C are independent if:\n",
    "    - $P(A \\cap B) = P(A)P(B)$ \n",
    "    - $P(A \\cap C) = P(A)P(C)$ \n",
    "    - $P(B \\cap C) = P(B)P(C)$\n",
    "    - $P(A \\cap B \\cap C) = P(A)P(B)P(C)$\n",
    "    - So you need both *pairwise independence* and *three-way independence*\n"
   ]
  },
  {
   "cell_type": "markdown",
   "metadata": {
    "hidden": true
   },
   "source": [
    "### Disjoint Events\n"
   ]
  },
  {
   "cell_type": "markdown",
   "metadata": {
    "hidden": true
   },
   "source": [
    "<img src=\"https://raw.githubusercontent.com/jirvingphd/dsc-conditional-probability-online-ds-ft-100719/master/images/Image_68Disjoint.png\" width=400>\n",
    "\n",
    "\n",
    "**Events $A$ and $B$ are disjoint if $A$ occurring means that $B$ cannot occur.**\n",
    "\n",
    "Disjoint events are **mutually exclusive**. $P (A \\cap B)$ is **empty**.\n"
   ]
  },
  {
   "cell_type": "markdown",
   "metadata": {
    "hidden": true
   },
   "source": [
    "### Dependent Events"
   ]
  },
  {
   "cell_type": "markdown",
   "metadata": {
    "hidden": true
   },
   "source": [
    "**Events $A$ and $B$ are dependent when the occurrence of $A$ somehow has an effect on whether $B$ will occur (or not).**\n",
    "\n",
    "\n",
    "In simple terms, the probability of seeing an event $B$ in the second trial depends on the outcome $A$ of the first trial. We say that $P(B)$ is **conditional** on $P(A)$.\n",
    "\n",
    "A **tree diagram** can be used to explore all possible events.\n",
    "\n",
    "<img src=\"https://raw.githubusercontent.com/jirvingphd/dsc-conditional-probability-online-ds-ft-100719/master/images/Image_71_TreeDiag.png\" width = 500>\n"
   ]
  },
  {
   "cell_type": "markdown",
   "metadata": {
    "ExecuteTime": {
     "end_time": "2020-01-09T21:44:03.999140Z",
     "start_time": "2020-01-09T21:44:03.996502Z"
    },
    "hidden": true
   },
   "source": [
    "## Conditional Probability"
   ]
  },
  {
   "cell_type": "markdown",
   "metadata": {
    "hidden": true
   },
   "source": [
    "\n",
    "**Conditional probability emerges when the outcome a trial may influence the results of the upcoming trials.**\n",
    "\n",
    "The conditional probability (Probability of $A$ **given** $B$) can be written as:\n",
    "$$ P (A \\mid B) = \\dfrac{P(A \\cap B)}{P(B)}$$\n",
    "\n",
    "\n",
    "\n",
    "$P(A|B)$, is the probability A **given** that $B$ has just happened. \n"
   ]
  },
  {
   "cell_type": "markdown",
   "metadata": {
    "hidden": true
   },
   "source": [
    "### Derivation of Conditional Probability\n",
    "Understanding this formula may be easier if you look at two simple Venn Diagrams and use the multiplication rule. Here's how to derive this formula:\n",
    "<img src=\"https://raw.githubusercontent.com/jirvingphd/dsc-conditional-probability-online-ds-ft-100719/master/images/Image_72_Cond4.png\" width=\"300\">\n",
    "\n",
    "\n",
    "\n",
    "Step 1: Write out the multiplication rule:\n",
    "* $P(A \\cap B)= P(B)*P(A\\mid B)$\n",
    "\n",
    "Step 2: Divide both sides of the equation by P(B):\n",
    "* $\\dfrac{P(A \\cap B)}{ P(B)} = \\dfrac{P(B)*P(A\\mid B)}{P(B)}$\n",
    "\n",
    "Step 3: Cancel P(B) on the right side of the equation:\n",
    "* $\\dfrac{P(A \\cap B)}{P(B)} = P(A \\mid B)$\n",
    "\n",
    "Step 4: This is of course equal to:\n",
    "* $ P(A \\mid B)=\\dfrac{P(A \\cap B)}{P(B)} $\n",
    "\n",
    "And this is our conditional probability formula. \n",
    "\n"
   ]
  },
  {
   "cell_type": "markdown",
   "metadata": {
    "hidden": true
   },
   "source": [
    "## 🚨Laws & Theorems Based on Conditional Probability\n"
   ]
  },
  {
   "cell_type": "markdown",
   "metadata": {
    "hidden": true
   },
   "source": [
    "### Theorem 1: Product Rule\n",
    "\n",
    "The intersection of events $A$ and $B$ can be given by\n",
    "\n",
    "\\begin{align}\n",
    "    P(A \\cap B) = P(B) P(A \\mid B) = P(A) P(B \\mid A)\n",
    "\\end{align}\n",
    "\n",
    "Remember that if $A$ and $B$ are independent, then conditioning on $B$ means nothing (and vice-versa) so:\n",
    "- $P(A|B) = P(A)$, and \n",
    "- $P(A \\cap B) = P(A) P(B)$.\n"
   ]
  },
  {
   "cell_type": "markdown",
   "metadata": {
    "hidden": true
   },
   "source": [
    "### Theorem 2: Chain Rule AKA \"General Product Rule\"\n",
    "\n",
    "- Allows calculation of any member of the join distribution of a set of random variables using _only_ conditional probabilities.\n",
    "\n",
    "- Built on the product rule: \n",
    "$$P(A \\cap B) = P(A \\mid B) P(B)$$\n",
    "\n",
    "- When applied to 3 variables, becomes:\n",
    "\n",
    "\n",
    "$$P(A\\cap B \\cap C) = P(A\\cap( B \\cap C))$$\n",
    "$$ = P(A\\mid B \\cap C) P(B \\cap C)$$\n",
    "$$ = P(A \\mid B \\cap C) P(B \\mid C) P(C)$$\n",
    "\n",
    "And you can keep extending this to $n$ variables:\n",
    "\n",
    "$$P(A_1 \\cap A_2 \\cap \\ldots \\cap A_n) = P(A_1 \\mid A_2 \\cap \\ldots\\cap A_n) P(A_2 \\mid A_3  \\cap \\ldots \\cap \\ A_n) P(A_{n-1}|A_n) P(A_n)$$\n",
    "\n",
    "This idea is known as the **chain rule**.\n",
    "\n"
   ]
  },
  {
   "cell_type": "markdown",
   "metadata": {
    "hidden": true
   },
   "source": [
    "### Theorem 3 - Bayes Theorem"
   ]
  },
  {
   "cell_type": "markdown",
   "metadata": {
    "hidden": true
   },
   "source": [
    "\n",
    "\n",
    "The **Bayes theorem**, which is the outcome of this section. Below is the formula that we will dig deeper into in upcoming lessons.\n",
    "\n",
    "$$ P(A|B) = \\frac{P(B|A)P(A)}{P(B)} $$\n",
    "\n",
    "- It uses that $P(A \\cap B) = P(B) P(A \\mid B) = P(A) P(B \\mid A)$. \n",
    "- Note that, using Bayes theorem, you **can compute conditional probabilities without explicitly needing to know $P(A \\cap B)$!** "
   ]
  },
  {
   "cell_type": "markdown",
   "metadata": {
    "hidden": true
   },
   "source": [
    "\n",
    "### Additional note: the complement of an event\n",
    "\n",
    "You learned about (absolute and relative) complements before, but the complement of an event is also applicable to conditional probabilities.\n",
    "\n",
    "The basic rule is:\n",
    "\n",
    "$P(A) + P(A') = 1$\n",
    "\n",
    "with A' being the complement of A.\n",
    "\n",
    "Similarly, extending this to conditional probabilities:\n",
    "\n",
    "$P(A|B) + P(A'|B) = 1$"
   ]
  },
  {
   "cell_type": "markdown",
   "metadata": {
    "hidden": true
   },
   "source": [
    "## Conditional Probability with Playlists"
   ]
  },
  {
   "cell_type": "markdown",
   "metadata": {
    "hidden": true
   },
   "source": [
    "### Q: what is the probability of hearing a \"Poker Face\" given that the song is by Lady GaGa?"
   ]
  },
  {
   "cell_type": "code",
   "execution_count": null,
   "metadata": {
    "ExecuteTime": {
     "end_time": "2020-01-21T20:46:01.017416Z",
     "start_time": "2020-01-21T20:46:01.011832Z"
    },
    "hidden": true
   },
   "outputs": [],
   "source": [
    "df['track'].value_counts()"
   ]
  },
  {
   "cell_type": "code",
   "execution_count": null,
   "metadata": {
    "ExecuteTime": {
     "end_time": "2020-01-21T20:46:01.643437Z",
     "start_time": "2020-01-21T20:46:01.637042Z"
    },
    "hidden": true
   },
   "outputs": [],
   "source": [
    "display(df.groupby('artist')['track'].count())"
   ]
  },
  {
   "cell_type": "markdown",
   "metadata": {
    "hidden": true
   },
   "source": [
    "- What is the probability of playing Poker Face given that its a Lady GaGa song?\n",
    "\n",
    "$$ P(PokerFace|LadyGaga)$$"
   ]
  },
  {
   "cell_type": "code",
   "execution_count": null,
   "metadata": {
    "ExecuteTime": {
     "end_time": "2020-01-21T20:46:03.744271Z",
     "start_time": "2020-01-21T20:46:03.735720Z"
    },
    "hidden": true
   },
   "outputs": [],
   "source": [
    "df.groupby('artist').get_group('Lady GaGa')['track'].value_counts()"
   ]
  },
  {
   "cell_type": "code",
   "execution_count": null,
   "metadata": {
    "ExecuteTime": {
     "end_time": "2020-01-21T20:46:03.980241Z",
     "start_time": "2020-01-21T20:46:03.976673Z"
    },
    "hidden": true
   },
   "outputs": [],
   "source": [
    "# |s|=3 \n",
    "# |e| = 2\n",
    "2/3"
   ]
  },
  {
   "cell_type": "markdown",
   "metadata": {
    "heading_collapsed": true
   },
   "source": [
    "# LAW OF TOTAL PROBABILITY"
   ]
  },
  {
   "cell_type": "markdown",
   "metadata": {
    "hidden": true
   },
   "source": [
    "- This law allows us to calculate $P(B)$ from partial/conditional probabilitie of subsets ($A_n$).\n",
    "- Requires that the different $A$'s that make up sample space $S$ be disjointed events.\n",
    "\n",
    "S $A_1, A_2, \\dots, A_n$ partition sample space $S$ into disjoint regions that sum up to $S$. In the example, the four regions\n",
    "\n",
    "<img src=\"https://raw.githubusercontent.com/jirvingphd/dsc-law-of-total-probability-online-ds-ft-100719/master/images/Image_55_TotProb.png\">\n",
    "\n",
    "The probability of a random event $B$ (orange area) can be written down as:\n",
    "\n",
    "\\begin{align}\n",
    "    P(B) &= P(B \\cap A_1) + P(B \\cap A_2) + P(B \\cap A_3)+ P(B \\cap A_4) \\\\\n",
    "         &= P(B \\mid A_1)P(A_1) + P(B \\mid A_2)P(A_2) +P(B \\mid A_3)P(A_3)+ P(B \\mid A_4)P(A_4)\n",
    "\\end{align}\n",
    "\n",
    "- using the first theorem above let us find the combined probabilities.\n",
    "\n",
    "\n",
    "#### Law of Total Probability\n",
    "\n",
    "If $B_1$,$B_2$,$B_3$,$\\dots$ is a partition of the sample space S, then for any event A we have\n",
    "\n",
    "$$P(A)= \\sum_i P(A \\cap B_i)= \\sum_i P(A \\mid B_i)P(B_i)$$\n",
    "\n",
    "Using a Venn diagram, we can pictorially see the idea behind the law of total probability. In the figure below, we have\n",
    "\n",
    "* $A_1 = A \\cap B_1$\n",
    "* $A_2 = A \\cap B_2$\n",
    "* $A_3 = A \\cap B_3$\n"
   ]
  },
  {
   "cell_type": "markdown",
   "metadata": {
    "ExecuteTime": {
     "end_time": "2020-01-09T21:50:32.639351Z",
     "start_time": "2020-01-09T21:50:32.637220Z"
    },
    "heading_collapsed": true
   },
   "source": [
    "# From Dinner Party Playlist to House Party Playlists"
   ]
  },
  {
   "cell_type": "markdown",
   "metadata": {
    "ExecuteTime": {
     "end_time": "2020-01-09T21:51:53.081763Z",
     "start_time": "2020-01-09T21:51:53.077870Z"
    },
    "hidden": true
   },
   "source": [
    "- House party spread across 4 rooms (living room, basement, back patio, kitchen).\n",
    "- Separate playlists playing at each location\n",
    "- Calculate conditinal probability / total probability examples"
   ]
  },
  {
   "cell_type": "code",
   "execution_count": null,
   "metadata": {
    "ExecuteTime": {
     "end_time": "2020-01-21T20:48:26.976941Z",
     "start_time": "2020-01-21T20:48:26.937944Z"
    },
    "hidden": true
   },
   "outputs": [],
   "source": [
    "house_party = dict(living_room = df.sample(12).reset_index(drop=True).copy(),\n",
    "                   basement = df.sample(10).reset_index(drop=True).copy(), \n",
    "                   back_patio = df.sample(9).reset_index(drop=True).copy(),\n",
    "                  kitchen=df.sample(8).reset_index(drop=True).copy())\n",
    "\n",
    "for k,v in house_party.items():\n",
    "    v['Room'] = k \n",
    "    display(v)"
   ]
  },
  {
   "cell_type": "markdown",
   "metadata": {
    "hidden": true
   },
   "source": [
    "### OUR HOUSE PARTY & LAW OF TOTAL PROB\n",
    "- Our House Party is sample space S\n",
    "- The 4 rooms are A1,A2,A3,A4\n",
    "- B represents the probabilty of hearing a specific song or artist as you wander the house.\n",
    "<img src=\"https://raw.githubusercontent.com/jirvingphd/dsc-law-of-total-probability-online-ds-ft-100719/master/images/Image_55_TotProb.png\">"
   ]
  },
  {
   "cell_type": "code",
   "execution_count": null,
   "metadata": {
    "ExecuteTime": {
     "end_time": "2020-01-10T00:30:22.008812Z",
     "start_time": "2020-01-10T00:30:22.006724Z"
    },
    "hidden": true
   },
   "outputs": [],
   "source": [
    "# df_house_party = pd.concat(house_party.values(),axis=0)\n",
    "# df_house_party.reset_index(inplace=True,drop=True)\n",
    "# # df_house_party"
   ]
  },
  {
   "cell_type": "code",
   "execution_count": null,
   "metadata": {
    "ExecuteTime": {
     "end_time": "2020-01-21T20:48:55.012932Z",
     "start_time": "2020-01-21T20:48:55.007149Z"
    },
    "hidden": true
   },
   "outputs": [],
   "source": [
    "res = house_party['living_room']['track'].value_counts()\n",
    "res.sum()"
   ]
  },
  {
   "cell_type": "code",
   "execution_count": null,
   "metadata": {
    "ExecuteTime": {
     "end_time": "2020-01-21T20:51:04.212391Z",
     "start_time": "2020-01-21T20:51:04.206032Z"
    },
    "hidden": true
   },
   "outputs": [],
   "source": [
    "rooms_list= list(house_party.keys())\n",
    "\n",
    "def get_room_counts(room='livng_room', \n",
    "                    column='artist', return_res=False,verbose=True):\n",
    "    \"\"\"Get value counts from house_party dict for the room and specified column.\"\"\"\n",
    "    room_counts = house_party[room][column].value_counts()\n",
    "    \n",
    "    if verbose: \n",
    "        display(room_counts)\n",
    "        print('Total Tracks: ',room_counts.sum())\n",
    "    \n",
    "    if return_res:\n",
    "        return room_counts\n",
    "    \n",
    "def get_room_prob(room='living_room', column='artist',target='Green Day', verbose=True):\n",
    "    room_counts = get_room_counts(room, column, True,False)\n",
    "    if verbose:\n",
    "        print(f\"[i] Prob of {target} given {room} = {room_counts.loc[target]}/{room_counts.sum()}\")\n",
    "        \n",
    "    return room_counts.loc[target]/room_counts.sum()\n",
    "    "
   ]
  },
  {
   "cell_type": "markdown",
   "metadata": {
    "hidden": true
   },
   "source": [
    "### Q1: What is the probability of hearing a Green Day song at the house party at any given moment?"
   ]
  },
  {
   "cell_type": "markdown",
   "metadata": {
    "hidden": true
   },
   "source": [
    "$$P(A)= \\sum_i P(A \\cap B_i)= \\sum_i P(A \\mid B_i)P(B_i)$$\n",
    "\n",
    "\n",
    "$$ P(GD)=\\sum_i P(GD \\mid Room_i)P(Room_i)$$\n",
    "\n",
    "####  To Calculate $P(GD)$ =\n",
    "\n",
    "$P(GD|Room1)\\times \\frac{1}{4} + P(GD|Room2)\\times \\frac{1}{4} + P(GD|Room3)\\times \\frac{1}{4} + P(GD|Room4)\\times \\frac{1}{4} $\n",
    "\n",
    "\n",
    "\n"
   ]
  },
  {
   "cell_type": "code",
   "execution_count": null,
   "metadata": {
    "ExecuteTime": {
     "end_time": "2020-01-21T20:51:05.932789Z",
     "start_time": "2020-01-21T20:51:05.927431Z"
    },
    "hidden": true
   },
   "outputs": [],
   "source": [
    "rooms_list"
   ]
  },
  {
   "cell_type": "code",
   "execution_count": null,
   "metadata": {
    "ExecuteTime": {
     "end_time": "2020-01-21T20:54:02.901177Z",
     "start_time": "2020-01-21T20:54:02.893785Z"
    },
    "hidden": true
   },
   "outputs": [],
   "source": [
    "get_room_counts('kitchen','artist')\n"
   ]
  },
  {
   "cell_type": "code",
   "execution_count": null,
   "metadata": {
    "ExecuteTime": {
     "end_time": "2020-01-21T20:55:52.909395Z",
     "start_time": "2020-01-21T20:55:52.904468Z"
    },
    "hidden": true
   },
   "outputs": [],
   "source": [
    "P_greenday_given_living_room = 1/12\n",
    "P_greenday_given_basement = 2/10\n",
    "P_greenday_given_back_patio = 0/9\n",
    "P_greenday_given_kitchen =1/8\n",
    "\n",
    "p_gd= P_greenday_given_living_room*(1/4) \\\n",
    "+ P_greenday_given_basement*(1/4)\\\n",
    "+P_greenday_given_back_patio*(1/4)\\\n",
    "+P_greenday_given_kitchen*(1/4)\n",
    "p_gd"
   ]
  },
  {
   "cell_type": "code",
   "execution_count": null,
   "metadata": {
    "ExecuteTime": {
     "end_time": "2020-01-21T20:56:23.225047Z",
     "start_time": "2020-01-21T20:56:23.222916Z"
    },
    "hidden": true
   },
   "outputs": [],
   "source": [
    "# # p_gd_given_rm1 \n",
    "# # val_counts = get_room_counts(room=rooms_list[0],column='artist',return_res=True)\n",
    "# p_gd = 0\n",
    "# for room in rooms_list:\n",
    "#     prob_rm = get_room_prob(room=room,target='Green Day',column='artist')\n",
    "#     p_gd += (prob_rm)*(1/4)\n",
    "# p_gd"
   ]
  },
  {
   "cell_type": "code",
   "execution_count": null,
   "metadata": {
    "ExecuteTime": {
     "end_time": "2020-01-21T20:56:25.154606Z",
     "start_time": "2020-01-21T20:56:25.152494Z"
    },
    "hidden": true
   },
   "outputs": [],
   "source": [
    "# p_gd = 0\n",
    "# for room in rooms_list:\n",
    "#     prob_rm = get_room_prob(room=room,target='Green Day',column='artist')\n",
    "#     p_gd += (prob_rm)*(1/4)\n",
    "# p_gd"
   ]
  },
  {
   "cell_type": "markdown",
   "metadata": {
    "hidden": true
   },
   "source": [
    "### What if we have unequal probabilties for being in each room?"
   ]
  },
  {
   "cell_type": "code",
   "execution_count": null,
   "metadata": {
    "ExecuteTime": {
     "end_time": "2020-01-21T20:56:41.545600Z",
     "start_time": "2020-01-21T20:56:41.541803Z"
    },
    "hidden": true
   },
   "outputs": [],
   "source": [
    "rooms_probs = dict(zip(rooms_list,[0.15,0.15,0.3,0.4]))\n",
    "rooms_probs"
   ]
  },
  {
   "cell_type": "code",
   "execution_count": null,
   "metadata": {
    "ExecuteTime": {
     "end_time": "2020-01-09T23:53:16.135554Z",
     "start_time": "2020-01-09T23:53:16.130778Z"
    },
    "hidden": true
   },
   "outputs": [],
   "source": [
    "# np.sum(list(rooms_probs.values()))"
   ]
  },
  {
   "cell_type": "code",
   "execution_count": null,
   "metadata": {
    "ExecuteTime": {
     "end_time": "2020-01-21T20:57:34.488846Z",
     "start_time": "2020-01-21T20:57:34.483191Z"
    },
    "hidden": true
   },
   "outputs": [],
   "source": [
    "P_greenday_given_living_room = 1/12\n",
    "P_greenday_given_basement = 2/10\n",
    "P_greenday_given_back_patio = 0/9\n",
    "P_greenday_given_kitchen =1/8\n",
    "\n",
    "p_gd= P_greenday_given_living_room*(.15) \\\n",
    "+ P_greenday_given_basement*(.15)\\\n",
    "+P_greenday_given_back_patio*(0.3)\\\n",
    "+P_greenday_given_kitchen*(0.4)\n",
    "p_gd"
   ]
  },
  {
   "cell_type": "code",
   "execution_count": null,
   "metadata": {
    "hidden": true
   },
   "outputs": [],
   "source": []
  },
  {
   "cell_type": "markdown",
   "metadata": {
    "hidden": true
   },
   "source": [
    "___"
   ]
  },
  {
   "cell_type": "markdown",
   "metadata": {
    "hidden": true
   },
   "source": [
    "### Q: what is the probability of hearing a song recommend by Anne?"
   ]
  },
  {
   "cell_type": "markdown",
   "metadata": {
    "hidden": true
   },
   "source": [
    "$$ P(AnneRec)=\\sum_i P(AnneRec \\mid Room_i)P(Room_i)$$\n"
   ]
  },
  {
   "cell_type": "code",
   "execution_count": null,
   "metadata": {
    "ExecuteTime": {
     "end_time": "2020-01-09T23:56:32.827002Z",
     "start_time": "2020-01-09T23:56:32.812610Z"
    },
    "hidden": true
   },
   "outputs": [],
   "source": [
    "p_anne = 0\n",
    "\n",
    "for room,room_prob in rooms_probs.items():\n",
    "    prob_rm = get_room_prob(room=room, target='Anne',column='Recommended By')\n",
    "    p_anne += (prob_rm * room_prob)\n",
    "    \n",
    "p_anne"
   ]
  },
  {
   "cell_type": "code",
   "execution_count": null,
   "metadata": {
    "ExecuteTime": {
     "end_time": "2020-01-10T00:20:01.799000Z",
     "start_time": "2020-01-10T00:20:01.795005Z"
    },
    "hidden": true
   },
   "outputs": [],
   "source": [
    "people = df[\"Recommended By\"].unique()\n",
    "people"
   ]
  },
  {
   "cell_type": "code",
   "execution_count": null,
   "metadata": {
    "ExecuteTime": {
     "end_time": "2020-01-10T00:23:19.940878Z",
     "start_time": "2020-01-10T00:23:19.935817Z"
    },
    "hidden": true
   },
   "outputs": [],
   "source": [
    "def loop_people(people):\n",
    "    p_total = []\n",
    "    for person in people:\n",
    "        p_john = 0\n",
    "\n",
    "        for room,room_prob in rooms_probs.items():\n",
    "            try:\n",
    "                prob_rm = get_room_prob(room=room, target=person,column='Recommended By')\n",
    "                \n",
    "            except:\n",
    "                prob_rm=0\n",
    "            p_john += (prob_rm * room_prob)\n",
    "           \n",
    "            \n",
    "        p_total.append(p_john)\n",
    "\n",
    "    assert np.sum(p_total)==1.0\n",
    "    print(f\"Prob for songs by {person}= {p_john}\",end='\\n\\n')\n"
   ]
  },
  {
   "cell_type": "code",
   "execution_count": null,
   "metadata": {
    "ExecuteTime": {
     "end_time": "2020-01-10T00:23:14.335641Z",
     "start_time": "2020-01-10T00:23:14.301856Z"
    },
    "hidden": true
   },
   "outputs": [],
   "source": [
    "tot = loop_people(people)\n"
   ]
  },
  {
   "cell_type": "markdown",
   "metadata": {
    "heading_collapsed": true
   },
   "source": [
    "# Intro to Section 18 - Statistical Distributions"
   ]
  },
  {
   "cell_type": "markdown",
   "metadata": {
    "hidden": true
   },
   "source": [
    "- Distributions are directly related to probability, which is a critical concept we will explore more with Hypothesis Testing in Module 3."
   ]
  },
  {
   "cell_type": "markdown",
   "metadata": {
    "hidden": true
   },
   "source": [
    "## Probability Mass Function (AKA Probability Distribution Function)"
   ]
  },
  {
   "cell_type": "markdown",
   "metadata": {
    "ExecuteTime": {
     "end_time": "2020-01-09T22:23:40.299352Z",
     "start_time": "2020-01-09T22:23:40.296088Z"
    },
    "hidden": true
   },
   "source": [
    "### Flipping a coin"
   ]
  },
  {
   "cell_type": "code",
   "execution_count": null,
   "metadata": {
    "ExecuteTime": {
     "end_time": "2020-01-10T00:14:48.139891Z",
     "start_time": "2020-01-10T00:14:48.135142Z"
    },
    "hidden": true
   },
   "outputs": [],
   "source": [
    "from collections import Counter\n",
    "\n",
    "def coin_toss(n_flips=10,outcomes=None,verbose=True,ret_outcomes=True):\n",
    "    if outcomes is None:\n",
    "        outcomes = []\n",
    "    \n",
    "    for toss in range(n_flips):\n",
    "        result = 'H' if np.random.random() >0.5 else 'T'\n",
    "        outcomes.append(result)\n",
    "        \n",
    "        if verbose: print(f\"Toss {toss}: \\t{result}\")\n",
    "            \n",
    "#     if ret_outcomes:\n",
    "    return outcomes\n",
    "#     else:        \n",
    "#         counter = Counter(outcomes)\n",
    "#         return counter"
   ]
  },
  {
   "cell_type": "code",
   "execution_count": null,
   "metadata": {
    "ExecuteTime": {
     "end_time": "2020-01-10T00:14:48.714146Z",
     "start_time": "2020-01-10T00:14:48.707471Z"
    },
    "hidden": true
   },
   "outputs": [],
   "source": [
    "outcomes = coin_toss(n_flips=5)\n",
    "outcomes"
   ]
  },
  {
   "cell_type": "code",
   "execution_count": null,
   "metadata": {
    "ExecuteTime": {
     "end_time": "2020-01-10T00:14:49.492250Z",
     "start_time": "2020-01-10T00:14:49.488511Z"
    },
    "hidden": true
   },
   "outputs": [],
   "source": [
    "counter= Counter(outcomes)\n",
    "counter"
   ]
  },
  {
   "cell_type": "code",
   "execution_count": null,
   "metadata": {
    "ExecuteTime": {
     "end_time": "2020-01-10T00:14:49.955872Z",
     "start_time": "2020-01-10T00:14:49.949773Z"
    },
    "hidden": true
   },
   "outputs": [],
   "source": [
    "def plot_pmf_vs_hist(counter):\n",
    "    if isinstance(counter,list):\n",
    "        from collections import Counter\n",
    "        counter = Counter(counter)\n",
    "\n",
    "    fig,ax=plt.subplots(ncols=2,figsize=(12,4))\n",
    "    pmf = [] \n",
    "\n",
    "    for k,v in counter.items():\n",
    "        pmf.append(round(v/len(outcomes),2))\n",
    "\n",
    "\n",
    "    ax[0].bar(counter.keys(),pmf)\n",
    "    ax[0].set(title=f'PMF (sum={np.sum(pmf)})',ylabel='Frequency',xlabel='Outcomes')\n",
    "    \n",
    "    ax[1].hist(outcomes)#counter.keys(),counter.values())\n",
    "    ax[1].set(title=f'Histogram (sum={np.sum(list(counter.values()))})',ylabel='Counts',xlabel='Outcomes')\n",
    "    plt.tight_layout()\n",
    "    return fig,ax"
   ]
  },
  {
   "cell_type": "code",
   "execution_count": null,
   "metadata": {
    "ExecuteTime": {
     "end_time": "2020-01-10T00:14:50.799749Z",
     "start_time": "2020-01-10T00:14:50.498484Z"
    },
    "hidden": true
   },
   "outputs": [],
   "source": [
    "plot_pmf_vs_hist(counter)"
   ]
  },
  {
   "cell_type": "code",
   "execution_count": null,
   "metadata": {
    "ExecuteTime": {
     "end_time": "2020-01-10T00:15:02.313797Z",
     "start_time": "2020-01-10T00:15:02.018594Z"
    },
    "hidden": true
   },
   "outputs": [],
   "source": [
    "outcomes = coin_toss(n_flips=12,outcomes=outcomes)\n",
    "plot_pmf_vs_hist(outcomes)"
   ]
  },
  {
   "cell_type": "code",
   "execution_count": null,
   "metadata": {
    "ExecuteTime": {
     "end_time": "2020-01-10T00:15:02.726349Z",
     "start_time": "2020-01-10T00:15:02.424113Z"
    },
    "hidden": true
   },
   "outputs": [],
   "source": [
    "outcomes = coin_toss(n_flips=21,outcomes=outcomes)\n",
    "plot_pmf_vs_hist(outcomes)"
   ]
  },
  {
   "cell_type": "code",
   "execution_count": null,
   "metadata": {
    "ExecuteTime": {
     "end_time": "2020-01-10T00:15:03.406562Z",
     "start_time": "2020-01-10T00:15:03.111746Z"
    },
    "hidden": true
   },
   "outputs": [],
   "source": [
    "outcomes = coin_toss(n_flips=20,outcomes=outcomes)\n",
    "plot_pmf_vs_hist(outcomes)"
   ]
  },
  {
   "cell_type": "code",
   "execution_count": null,
   "metadata": {
    "ExecuteTime": {
     "end_time": "2020-01-10T00:15:32.059105Z",
     "start_time": "2020-01-10T00:15:31.742295Z"
    },
    "hidden": true,
    "scrolled": false
   },
   "outputs": [],
   "source": [
    "outcomes = coin_toss(n_flips=200,outcomes=outcomes)\n",
    "plot_pmf_vs_hist(outcomes)"
   ]
  },
  {
   "cell_type": "code",
   "execution_count": null,
   "metadata": {
    "ExecuteTime": {
     "end_time": "2020-01-10T00:16:54.226782Z",
     "start_time": "2020-01-10T00:16:54.221162Z"
    },
    "hidden": true
   },
   "outputs": [],
   "source": [
    "outcomes[:20]"
   ]
  },
  {
   "cell_type": "markdown",
   "metadata": {},
   "source": [
    "# For Next Time:\n",
    "- Get vocab straight for dists\n",
    "- Interpolation"
   ]
  },
  {
   "cell_type": "code",
   "execution_count": null,
   "metadata": {},
   "outputs": [],
   "source": []
  }
 ],
 "metadata": {
  "colab": {
   "collapsed_sections": [],
   "name": "sect_17_prob_&_comb.ipynb",
   "provenance": []
  },
  "kernelspec": {
   "display_name": "Python [conda env:learn-env] *",
   "language": "python",
   "name": "conda-env-learn-env-py"
  },
  "language_info": {
   "codemirror_mode": {
    "name": "ipython",
    "version": 3
   },
   "file_extension": ".py",
   "mimetype": "text/x-python",
   "name": "python",
   "nbconvert_exporter": "python",
   "pygments_lexer": "ipython3",
   "version": "3.6.9"
  },
  "toc": {
   "base_numbering": 1,
   "nav_menu": {},
   "number_sections": true,
   "sideBar": true,
   "skip_h1_title": false,
   "title_cell": "Table of Contents",
   "title_sidebar": "Contents",
   "toc_cell": false,
   "toc_position": {
    "height": "508px",
    "left": "54px",
    "top": "110px",
    "width": "256px"
   },
   "toc_section_display": true,
   "toc_window_display": true
  },
  "varInspector": {
   "cols": {
    "lenName": 16,
    "lenType": 16,
    "lenVar": 40
   },
   "kernels_config": {
    "python": {
     "delete_cmd_postfix": "",
     "delete_cmd_prefix": "del ",
     "library": "var_list.py",
     "varRefreshCmd": "print(var_dic_list())"
    },
    "r": {
     "delete_cmd_postfix": ") ",
     "delete_cmd_prefix": "rm(",
     "library": "var_list.r",
     "varRefreshCmd": "cat(var_dic_list()) "
    }
   },
   "types_to_exclude": [
    "module",
    "function",
    "builtin_function_or_method",
    "instance",
    "_Feature"
   ],
   "window_display": false
  }
 },
 "nbformat": 4,
 "nbformat_minor": 1
}
