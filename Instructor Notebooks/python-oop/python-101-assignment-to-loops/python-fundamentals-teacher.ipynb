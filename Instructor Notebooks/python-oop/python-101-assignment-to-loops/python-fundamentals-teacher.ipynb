{
 "cells": [
  {
   "cell_type": "code",
   "execution_count": 2,
   "metadata": {
    "ExecuteTime": {
     "end_time": "2020-04-24T22:08:43.428766Z",
     "start_time": "2020-04-24T22:08:43.424277Z"
    },
    "scrolled": true
   },
   "outputs": [
    {
     "data": {
      "text/markdown": [
       "---\n",
       "title: Python Fundamentals\n",
       "layout: post\n",
       "weight: 10\n",
       "hidden: true\n",
       "---\n",
       "​\n",
       "**Course**: Data Science <br/>\n",
       "**Mod**: 1 <br/>\n",
       "**Topic**: Python Fundamentals <br/>\n",
       "**Amount of time**: 1.5 hours <br/>\n",
       "**Author**: Alan Hong\n",
       "​\n",
       "***\n",
       "​\n",
       "## Lesson Summary:\n",
       "​\n",
       "#### Topic:\n",
       "Python Fundamentals\n",
       "#### Learn.co material:\n",
       "- None\n",
       "#### Prerequisite knowledge/ Prework:\n",
       "- How to start Jupyter Notebook\n",
       "#### SWBATs:\n",
       "- Make use of assigning variables\n",
       "- Classify and explain integers, float, strings, boolean, list, dictionary, and tuple\n",
       "- Identify the comparators and boolean operators\n",
       "- Make use of a `list`: indexing, ranges, appending\n",
       "- Make use of a `dict`: identifying, creating, navigating\n",
       "- Apply a for loop to lists and dictionaries\n",
       "\n",
       "#### Misconceptions:\n",
       "- (Note to former web devs like me lol): A Python `dictionary` might be similar to a JS `object` but its not. In Python, a dictionary has no indexing.\n",
       "- A `tuple` is a completely new data type and is similar to a read-only `list`\n",
       "- Indentations matter in Python! Especially when writing loops and conditions.\n",
       "- lists and dicts are useless - gimme the data frames!\n",
       "- this is really scary\n",
       "\n",
       "#### Materials\n",
       "- Filled Jupyter Notebook for you to refer to as you lecture\n",
       "- If you want to give the students more practice, use this: https://www.codewars.com/kata/find-the-odd-int/train/python\n",
       "\n",
       "***\n",
       "\n",
       "## Lesson Outline:\n",
       "\n",
       "**Step**: Learning Variable Types and Assigning Variables <br/>\n",
       "**Time**: 20 min\n",
       "\n",
       "_Goal/Scenario and Demonstrate:_<br/>\n",
       "Let's say we are trying to come up with a list of ingredients for a bento box (lunch box) we want to create!\n",
       "\n",
       "- Demonstrate correct and incorrect variable assignments to different types.\n",
       "\n",
       "Variable types and things of note:\n",
       "- What is a variable? (Variables are nothing but reserved memory locations to store values. This means that when you create a variable you reserve some space in memory.)\n",
       "- How do we assign a variable?\n",
       "```\n",
       "ingredient = \"rice\"\n",
       "```\n",
       "- Why is this important? (We can assign it once and then reuse it as many times as we wish!)\n",
       "\n",
       "- Let's make more robust varialbes:\n",
       "\n",
       "```\n",
       "main = \"rice\"\n",
       "protein = \"salmon\"\n",
       "ozofprotien = 4.5\n",
       "number_of_sides = 3\n",
       "side1 = 'seaweed'\n",
       "side2 = 'tempura'\n",
       "side2 =  'turnip pickle'\n",
       "```\n",
       "\n",
       "If we use the function `type()` on `main` what do we get?\n",
       "Try using `type()` on the rest of the variables in our bento box.\n",
       "What types do we see? Any difference between `int` and `float`\n",
       "\n",
       "- int; float; str; list; dict\n",
       "\n",
       "- So we assigned them one at a time, you can assign multiple variables at a time like this:\n",
       "```\n",
       "a, b, c = 1, 2, \"Luke\"\n",
       "print(a)\n",
       "print(b)\n",
       "print(c)\n",
       "```\n",
       "\n",
       "\n",
       "_Informal Assessment_:<br/>\n",
       "\"Quick check, how confident do we feel about moving on from variable types and variable assignment? Give me yay, nay or a maybe.\"\n",
       "- follow up with those students who do not feel confident\n",
       "\n",
       "**Step**: Comparators, Booleans and Decision Making <br/>\n",
       "**Time**: 20 min\n",
       "\n",
       "_Demonstrate_:<br/>\n",
       "- https://www.tutorialspoint.com/python3/python_decision_making.htm\n",
       "- comparators are:\n",
       "```\n",
       "==\n",
       "!=\n",
       ">\n",
       "<\n",
       "<=\n",
       ">=\n",
       "```\n",
       "- Decision Making is like this:\n",
       "```\n",
       "if (protein == 'salmon'):\n",
       "  print(\"I love salmon!\")\n",
       "```\n",
       "```\n",
       "#will I like this bento box?\n",
       "if (main == 'rice'):\n",
       "  print(\"no carbs, please!\")\n",
       "elif(ozofprotein >= 2.5):\n",
       "  print(\"too much!\")\n",
       "else:\n",
       "  print(\"I have no problems with this order\")\n",
       "```\n",
       "\n",
       "- Have them update the final output of the if/else statement to set greatbento to True/False depending on ingredients. \n",
       "- note that True/False are reserved words\n",
       "\n",
       "**Step**: Using Lists: Indexing, ranges, appending <br/>\n",
       "**Time**: 10 min\n",
       "\n",
       "_Demonstrate_: <br/>\n",
       "\n",
       "- If we want to store all of the ingredients in one item type, we can use - a LIST!\n",
       "- Ask the class: How can we identify a list? \"Square brackets.\"\n",
       "\n",
       "```\n",
       "bento_box_list = [\"rice\", \"chicken teriyaki\", \"tempura\", \"soy sauce\", \"ginger\", \"seaweed\"]\n",
       "bento_box_list[2]\n",
       "\n",
       "Output: tempura\n",
       "\n",
       "numbers[0:2]\n",
       "\n",
       "Output: [\"rice\", \"chicken teriyaki\"]\n",
       "```\n",
       "- to append to a list:\n",
       "```\n",
       "bento_box_list = [\"rice\", \"chicken teriyaki\", \"tempura\", \"soy sauce\", \"ginger\", \"seaweed\"]\n",
       "bento_box_list.append(\"wasabi\")\n",
       "print(bento_box_list)\n",
       "\n",
       "Output: [\"rice\", \"chicken teriyaki\", \"tempura\", \"soy sauce\", \"ginger\", \"seaweed\", \"wasabi\"]\n",
       "```\n",
       "- Have them convert it to list and also - have it pring a whole sentence using .`join`\n",
       "_Informal assessment_:<br/>\n",
       "\"What about lists? How do we all feel about lists? Give me yay, nay or a maybe.\"\n",
       "- follow up with those students who do not feel confident\n",
       "\n",
       "**Step**: Dictionaries: Identifying, creating <br/>\n",
       "**Time**: 10 min\n",
       "\n",
       "_Demonstration_: <br/>\n",
       "- Ask the class: How can we identify a dictionary? \"Key value pairs.\" \"Curly brackets.\"\n",
       "- a Python dictionary is \"unindexed\"; this means you cannot do `my_dict[0]` to get the first element in a dictionary\n",
       "- To create a dictionary:\n",
       "```\n",
       "bento_box_dict = {'ingredient1': 'rice', 'ingredient2': 'unagi', 'ingredient3': 'miso soup'}\n",
       "```\n",
       "- To get an element in the dictionary:\n",
       "```\n",
       "print(bento_box_dict['ingredient2'])\n",
       "```\n",
       "\n",
       "Let's put it all together!\n",
       "```\n",
       "group_lunch = [\n",
       "    {'ingredient1': 'rice', 'ingredient2': 'unagi', 'ingredient3': 'miso soup'},\n",
       "    {'ingredient1': 'seaweed', 'ingredient2': 'tempura', 'ingredient3': 'miso soup'},\n",
       "    {'ingredient1': 'hamburger', 'ingredient2': 'french fries', 'ingredient3': 'milkshake'}\n",
       "]\n",
       "```\n",
       "\n",
       "_Informal assessment_:<br/>\n",
       "\"How do we all feel about Python dictionaries? Give me yay, nay or a maybe.\"\n",
       "- follow up with those students who do not feel confident\n",
       "\n",
       "**Step**: Loops with Lists and Dictionaries <br/>\n",
       "**Time**: 20 min\n",
       "\n",
       "_Demonstration_: <br/>\n",
       "- Ask students to write out step by step instructions on how we would fold our clothes!\n",
       "\n",
       "```\n",
       "For items in basket:\n",
       "   fold each item\n",
       "```\n",
       "you start with the first item, end when it is empty\n",
       "\n",
       "so for our example with a list:\n",
       "\n",
       "```\n",
       "for items in bento_box_list:\n",
       "   print(items)\n",
       "```\n",
       "_Apply_ :\n",
       "Print a different list and name \"item\" something else\n",
       "\n",
       "_Demonstrate_ :\n",
       "\n",
       "-  looping through dictionaries is a bit more complex:\n",
       "- Let's write a program to simulate these instructions and actions!\n",
       "```\n",
       "fold_clothes = [\n",
       "  \"remove from dryer\",\n",
       "  \"lay piece of clothing flat\",\n",
       "  \"fold piece of clothing in half\"\n",
       "]\n",
       "\n",
       "for action in fold_clothes:\n",
       "  print(action)\n",
       "```\n",
       "- Ask: How can we loop thru this dictionary and get all the keys?\n",
       "```\n",
       "fold_clothes_dict = {\n",
       "  'action1': 'remove from dryer',\n",
       "  'action2': 'lay piece of clothing flat',\n",
       "  'action3': 'fold piece of clothing in half'\n",
       "}\n",
       "\n",
       "for action in fold_clothes_dict:\n",
       "  print(action)\n",
       "```\n",
       "- Ask: Now how do we get all the values with a loop?\n",
       "```\n",
       "for action in fold_clothes_dict:\n",
       "  print(fold_clothes_dict[action])\n",
       "```\n",
       "\n",
       "_Application:_ </br>\n",
       "\n",
       "write a loop to print first ingredient in everyone's bento order.\n",
       "\n",
       "```\n",
       "group_lunch = [\n",
       "    {'ingredient1': 'rice', 'ingredient2': 'unagi', 'ingredient3': 'miso soup'},\n",
       "    {'ingredient1': 'seaweed', 'ingredient2': 'tempura', 'ingredient3': 'miso soup'},\n",
       "    {'ingredient1': 'hamburger', 'ingredient2': 'french fries', 'ingredient3': 'milkshake'}\n",
       "]\n",
       "```\n",
       "\n",
       "_Informal assessment_:<br/>\n",
       "\"How do we all feel about looping in Python? Give me yay, nay or a maybe.\"\n",
       "- follow up with those students who do not feel confident\n",
       "\n",
       "**Step**: Assessment <br/>\n",
       "**Time**: 10 min <br/>\n",
       "- Construct a dictionary and loop over it to print out each key and each value with the assistance of the class\n",
       "- Let it be class driven as you ask students what to do next\n",
       "\n",
       "**Step**: Reflection <br/>\n",
       "**Time**: _if you have time remaining_ <br/>\n",
       "Ask the class and discuss as a group:\n",
       "- What did you all find challenging about this content?\n",
       "- What did you all find surprising?\n",
       "- What did you all enjoy?\n"
      ],
      "text/plain": [
       "<IPython.core.display.Markdown object>"
      ]
     },
     "metadata": {},
     "output_type": "display_data"
    }
   ],
   "source": [
    "from IPython import display as dp\n",
    "with open('python-fundamentals.md') as file:\n",
    "    dp.display(dp.Markdown(file.read()))"
   ]
  },
  {
   "cell_type": "markdown",
   "metadata": {},
   "source": [
    "![python logo](https://www.python.org/static/community_logos/python-logo-master-v3-TM.png)\n",
    "\n",
    "\n",
    "\n",
    "# Python has a lot of great [documentation](https://www.python.org/about/gettingstarted/)\n",
    "\n",
    "\n",
    "Today as a first step we want you to be able to:\n",
    "- Make use of assigning variables\n",
    "- Classify and explain integers, float, strings, boolean, list, dictionary, and tuple\n",
    "- Identify the comparators and boolean operators\n",
    "- Make use of a `list`: indexing, ranges, appending\n",
    "- Make use of a `dict`: identifying, creating, navigating\n",
    "- Apply a for loop to lists and dictionaries\n",
    "\n",
    "\n",
    "### To do all that, we are going to code up versions of a bento box:\n",
    "\n",
    "![bento box image](https://images.pexels.com/photos/884596/pexels-photo-884596.jpeg?auto=compress&cs=tinysrgb&dpr=2&h=750&w=1260)\n",
    "\n",
    "\n",
    "### Bento boxes can have multiple ingredients and choices\n",
    "\n",
    "We want to write a script that can combine everyone's bento order into one data collection and print each item for the restaurant. \n",
    "\n",
    "#### Variable assignment \n",
    "\n",
    "Let's start with our first bento oder:\n",
    "\n",
    "```\n",
    "main = \"rice\"\n",
    "protein = \"salmon\"\n",
    "ozofprotein = 4.5\n",
    "number_of_sides = 3\n",
    "side1 = 'seaweed'\n",
    "side2 = 'tempura'\n",
    "side2 =  'turnip pickle'\n",
    "greatbento = True\n",
    "```"
   ]
  },
  {
   "cell_type": "code",
   "execution_count": 26,
   "metadata": {
    "ExecuteTime": {
     "end_time": "2020-04-24T22:56:56.557866Z",
     "start_time": "2020-04-24T22:56:53.211789Z"
    }
   },
   "outputs": [
    {
     "name": "stdout",
     "output_type": "stream",
     "text": [
      "fsds_1007219  v0.7.20 loaded.  Read the docs: https://fsds.readthedocs.io/en/latest/ \n"
     ]
    },
    {
     "data": {
      "text/html": [
       "<style  type=\"text/css\" >\n",
       "</style><table id=\"T_e5225eee_867e_11ea_82de_4865ee12e626\" ><caption>Loaded Packages and Handles</caption><thead>    <tr>        <th class=\"col_heading level0 col0\" >Handle</th>        <th class=\"col_heading level0 col1\" >Package</th>        <th class=\"col_heading level0 col2\" >Description</th>    </tr></thead><tbody>\n",
       "                <tr>\n",
       "                                <td id=\"T_e5225eee_867e_11ea_82de_4865ee12e626row0_col0\" class=\"data row0 col0\" >dp</td>\n",
       "                        <td id=\"T_e5225eee_867e_11ea_82de_4865ee12e626row0_col1\" class=\"data row0 col1\" >IPython.display</td>\n",
       "                        <td id=\"T_e5225eee_867e_11ea_82de_4865ee12e626row0_col2\" class=\"data row0 col2\" >Display modules with helpful display and clearing commands.</td>\n",
       "            </tr>\n",
       "            <tr>\n",
       "                                <td id=\"T_e5225eee_867e_11ea_82de_4865ee12e626row1_col0\" class=\"data row1 col0\" >fs</td>\n",
       "                        <td id=\"T_e5225eee_867e_11ea_82de_4865ee12e626row1_col1\" class=\"data row1 col1\" >fsds_100719</td>\n",
       "                        <td id=\"T_e5225eee_867e_11ea_82de_4865ee12e626row1_col2\" class=\"data row1 col2\" >Custom data science bootcamp student package</td>\n",
       "            </tr>\n",
       "            <tr>\n",
       "                                <td id=\"T_e5225eee_867e_11ea_82de_4865ee12e626row2_col0\" class=\"data row2 col0\" >mpl</td>\n",
       "                        <td id=\"T_e5225eee_867e_11ea_82de_4865ee12e626row2_col1\" class=\"data row2 col1\" >matplotlib</td>\n",
       "                        <td id=\"T_e5225eee_867e_11ea_82de_4865ee12e626row2_col2\" class=\"data row2 col2\" >Matplotlib's base OOP module with formatting artists</td>\n",
       "            </tr>\n",
       "            <tr>\n",
       "                                <td id=\"T_e5225eee_867e_11ea_82de_4865ee12e626row3_col0\" class=\"data row3 col0\" >plt</td>\n",
       "                        <td id=\"T_e5225eee_867e_11ea_82de_4865ee12e626row3_col1\" class=\"data row3 col1\" >matplotlib.pyplot</td>\n",
       "                        <td id=\"T_e5225eee_867e_11ea_82de_4865ee12e626row3_col2\" class=\"data row3 col2\" >Matplotlib's matlab-like plotting module</td>\n",
       "            </tr>\n",
       "            <tr>\n",
       "                                <td id=\"T_e5225eee_867e_11ea_82de_4865ee12e626row4_col0\" class=\"data row4 col0\" >np</td>\n",
       "                        <td id=\"T_e5225eee_867e_11ea_82de_4865ee12e626row4_col1\" class=\"data row4 col1\" >numpy</td>\n",
       "                        <td id=\"T_e5225eee_867e_11ea_82de_4865ee12e626row4_col2\" class=\"data row4 col2\" >scientific computing with Python</td>\n",
       "            </tr>\n",
       "            <tr>\n",
       "                                <td id=\"T_e5225eee_867e_11ea_82de_4865ee12e626row5_col0\" class=\"data row5 col0\" >pd</td>\n",
       "                        <td id=\"T_e5225eee_867e_11ea_82de_4865ee12e626row5_col1\" class=\"data row5 col1\" >pandas</td>\n",
       "                        <td id=\"T_e5225eee_867e_11ea_82de_4865ee12e626row5_col2\" class=\"data row5 col2\" >High performance data structures and tools</td>\n",
       "            </tr>\n",
       "            <tr>\n",
       "                                <td id=\"T_e5225eee_867e_11ea_82de_4865ee12e626row6_col0\" class=\"data row6 col0\" >sns</td>\n",
       "                        <td id=\"T_e5225eee_867e_11ea_82de_4865ee12e626row6_col1\" class=\"data row6 col1\" >seaborn</td>\n",
       "                        <td id=\"T_e5225eee_867e_11ea_82de_4865ee12e626row6_col2\" class=\"data row6 col2\" >High-level data visualization library based on matplotlib</td>\n",
       "            </tr>\n",
       "    </tbody></table>"
      ],
      "text/plain": [
       "<pandas.io.formats.style.Styler at 0x1c23c0c668>"
      ]
     },
     "metadata": {},
     "output_type": "display_data"
    },
    {
     "data": {
      "text/html": [
       "        <script type=\"text/javascript\">\n",
       "        window.PlotlyConfig = {MathJaxConfig: 'local'};\n",
       "        if (window.MathJax) {MathJax.Hub.Config({SVG: {font: \"STIX-Web\"}});}\n",
       "        if (typeof require !== 'undefined') {\n",
       "        require.undef(\"plotly\");\n",
       "        requirejs.config({\n",
       "            paths: {\n",
       "                'plotly': ['https://cdn.plot.ly/plotly-latest.min']\n",
       "            }\n",
       "        });\n",
       "        require(['plotly'], function(Plotly) {\n",
       "            window._Plotly = Plotly;\n",
       "        });\n",
       "        }\n",
       "        </script>\n",
       "        "
      ]
     },
     "metadata": {},
     "output_type": "display_data"
    },
    {
     "name": "stdout",
     "output_type": "stream",
     "text": [
      "[i] Pandas .iplot() method activated.\n"
     ]
    }
   ],
   "source": [
    "from fsds_100719.imports import *"
   ]
  },
  {
   "cell_type": "code",
   "execution_count": 28,
   "metadata": {
    "ExecuteTime": {
     "end_time": "2020-04-24T22:57:12.962188Z",
     "start_time": "2020-04-24T22:57:12.170593Z"
    }
   },
   "outputs": [
    {
     "data": {
      "text/html": [
       "<div>\n",
       "<style scoped>\n",
       "    .dataframe tbody tr th:only-of-type {\n",
       "        vertical-align: middle;\n",
       "    }\n",
       "\n",
       "    .dataframe tbody tr th {\n",
       "        vertical-align: top;\n",
       "    }\n",
       "\n",
       "    .dataframe thead th {\n",
       "        text-align: right;\n",
       "    }\n",
       "</style>\n",
       "<table border=\"1\" class=\"dataframe\">\n",
       "  <thead>\n",
       "    <tr style=\"text-align: right;\">\n",
       "      <th></th>\n",
       "      <th>Gender</th>\n",
       "      <th>Height</th>\n",
       "      <th>Weight</th>\n",
       "    </tr>\n",
       "  </thead>\n",
       "  <tbody>\n",
       "    <tr>\n",
       "      <td>0</td>\n",
       "      <td>Male</td>\n",
       "      <td>73.847017</td>\n",
       "      <td>241.893563</td>\n",
       "    </tr>\n",
       "    <tr>\n",
       "      <td>1</td>\n",
       "      <td>Male</td>\n",
       "      <td>68.781904</td>\n",
       "      <td>162.310473</td>\n",
       "    </tr>\n",
       "    <tr>\n",
       "      <td>2</td>\n",
       "      <td>Male</td>\n",
       "      <td>74.110105</td>\n",
       "      <td>212.740856</td>\n",
       "    </tr>\n",
       "    <tr>\n",
       "      <td>3</td>\n",
       "      <td>Male</td>\n",
       "      <td>71.730978</td>\n",
       "      <td>220.042470</td>\n",
       "    </tr>\n",
       "    <tr>\n",
       "      <td>4</td>\n",
       "      <td>Male</td>\n",
       "      <td>69.881796</td>\n",
       "      <td>206.349801</td>\n",
       "    </tr>\n",
       "    <tr>\n",
       "      <td>...</td>\n",
       "      <td>...</td>\n",
       "      <td>...</td>\n",
       "      <td>...</td>\n",
       "    </tr>\n",
       "    <tr>\n",
       "      <td>9995</td>\n",
       "      <td>Female</td>\n",
       "      <td>66.172652</td>\n",
       "      <td>136.777454</td>\n",
       "    </tr>\n",
       "    <tr>\n",
       "      <td>9996</td>\n",
       "      <td>Female</td>\n",
       "      <td>67.067155</td>\n",
       "      <td>170.867906</td>\n",
       "    </tr>\n",
       "    <tr>\n",
       "      <td>9997</td>\n",
       "      <td>Female</td>\n",
       "      <td>63.867992</td>\n",
       "      <td>128.475319</td>\n",
       "    </tr>\n",
       "    <tr>\n",
       "      <td>9998</td>\n",
       "      <td>Female</td>\n",
       "      <td>69.034243</td>\n",
       "      <td>163.852461</td>\n",
       "    </tr>\n",
       "    <tr>\n",
       "      <td>9999</td>\n",
       "      <td>Female</td>\n",
       "      <td>61.944246</td>\n",
       "      <td>113.649103</td>\n",
       "    </tr>\n",
       "  </tbody>\n",
       "</table>\n",
       "<p>10000 rows × 3 columns</p>\n",
       "</div>"
      ],
      "text/plain": [
       "      Gender     Height      Weight\n",
       "0       Male  73.847017  241.893563\n",
       "1       Male  68.781904  162.310473\n",
       "2       Male  74.110105  212.740856\n",
       "3       Male  71.730978  220.042470\n",
       "4       Male  69.881796  206.349801\n",
       "...      ...        ...         ...\n",
       "9995  Female  66.172652  136.777454\n",
       "9996  Female  67.067155  170.867906\n",
       "9997  Female  63.867992  128.475319\n",
       "9998  Female  69.034243  163.852461\n",
       "9999  Female  61.944246  113.649103\n",
       "\n",
       "[10000 rows x 3 columns]"
      ]
     },
     "execution_count": 28,
     "metadata": {},
     "output_type": "execute_result"
    }
   ],
   "source": [
    "df = fs.datasets.load_height_weight()\n",
    "df"
   ]
  },
  {
   "cell_type": "markdown",
   "metadata": {},
   "source": [
    "### To keep it all together, lets turn it into a dict"
   ]
  },
  {
   "cell_type": "code",
   "execution_count": 20,
   "metadata": {
    "ExecuteTime": {
     "end_time": "2020-04-24T22:16:12.307531Z",
     "start_time": "2020-04-24T22:16:12.302889Z"
    }
   },
   "outputs": [
    {
     "data": {
      "text/plain": [
       "{'main': 'rice',\n",
       " 'protein': 'salmon',\n",
       " 'ozofprotein': 4.5,\n",
       " 'number_of_sides': 3,\n",
       " 'sides': {'side1': 'seaweed', 'side2': 'tempura', 'side3': 'turnip pickle'},\n",
       " 'greatbento': True}"
      ]
     },
     "execution_count": 20,
     "metadata": {},
     "output_type": "execute_result"
    }
   ],
   "source": [
    "bento= dict(main = \"rice\",\n",
    "            protein = \"salmon\",\n",
    "            ozofprotein = 4.5, \n",
    "            number_of_sides = 3,\n",
    "            sides = dict( side1 = 'seaweed', side2 = 'tempura', \n",
    "                               side3 =  'turnip pickle'),\n",
    "            greatbento = True)\n",
    "bento"
   ]
  },
  {
   "cell_type": "markdown",
   "metadata": {},
   "source": [
    "Now, if we wanted to change our protein to ginger chicken, how would we do that?"
   ]
  },
  {
   "cell_type": "code",
   "execution_count": 21,
   "metadata": {
    "ExecuteTime": {
     "end_time": "2020-04-24T22:16:13.160992Z",
     "start_time": "2020-04-24T22:16:13.157463Z"
    }
   },
   "outputs": [
    {
     "data": {
      "text/plain": [
       "{'main': 'rice',\n",
       " 'protein': 'chicken',\n",
       " 'ozofprotein': 4.5,\n",
       " 'number_of_sides': 3,\n",
       " 'sides': {'side1': 'seaweed', 'side2': 'tempura', 'side3': 'turnip pickle'},\n",
       " 'greatbento': True}"
      ]
     },
     "execution_count": 21,
     "metadata": {},
     "output_type": "execute_result"
    }
   ],
   "source": [
    "bento['protein']='chicken'\n",
    "bento"
   ]
  },
  {
   "cell_type": "markdown",
   "metadata": {},
   "source": [
    "We can reassign variable values easily.\n",
    "\n",
    "Now, we assigned those variables one at a time. We also can assign multiple values at once:\n",
    "\n",
    "`side1, side2, side3 = \"carrots\", \"kimchi\", \"mushrooms\"`\n",
    "\n",
    "Update your side order to match your preference. \n",
    "\n",
    "Then use `print()` to confirm the variable change"
   ]
  },
  {
   "cell_type": "code",
   "execution_count": 25,
   "metadata": {
    "ExecuteTime": {
     "end_time": "2020-04-24T22:16:33.790784Z",
     "start_time": "2020-04-24T22:16:33.787207Z"
    }
   },
   "outputs": [
    {
     "data": {
      "text/plain": [
       "{'main': 'rice',\n",
       " 'protein': 'chicken',\n",
       " 'ozofprotein': 4.5,\n",
       " 'number_of_sides': 3,\n",
       " 'sides': ('carrots', 'kimchi', 'mushrooms'),\n",
       " 'greatbento': True}"
      ]
     },
     "execution_count": 25,
     "metadata": {},
     "output_type": "execute_result"
    }
   ],
   "source": [
    "bento['sides'] = \"carrots\", \"kimchi\", \"mushrooms\""
   ]
  },
  {
   "cell_type": "code",
   "execution_count": 16,
   "metadata": {
    "ExecuteTime": {
     "end_time": "2020-04-24T22:14:53.302251Z",
     "start_time": "2020-04-24T22:14:53.299779Z"
    }
   },
   "outputs": [],
   "source": [
    "side1, side2, side3 = \"carrots\", \"kimchi\", \"mushrooms\"\n"
   ]
  },
  {
   "cell_type": "markdown",
   "metadata": {},
   "source": [
    "#### Variable Types\n",
    "\n",
    "Each variable in our bento box has a `type`. \n",
    "\n",
    "```\n",
    "type(side1)\n",
    "str\n",
    "```\n",
    "Run `type()` on the remaining variables to explore the type options."
   ]
  },
  {
   "cell_type": "code",
   "execution_count": null,
   "metadata": {},
   "outputs": [],
   "source": []
  },
  {
   "cell_type": "markdown",
   "metadata": {},
   "source": [
    "#### Conditionals\n",
    "\n",
    "Now what if you have food allergies, or want to be able to evaluate a variable before changing it?\n",
    "\n",
    "Well you're in luck, cause we have if statements and conditionals and control flow operators.\n",
    "\n",
    "\n",
    "\n",
    "Control flow operators are:\n",
    "```\n",
    "==\n",
    "!=\n",
    ">\n",
    "<\n",
    "<=\n",
    ">=\n",
    "```\n",
    "\n",
    "\n",
    "Decision Making is like this:\n",
    "```\n",
    "if (protein == 'salmon'):\n",
    "  print(\"I love salmon!\")\n",
    "```\n",
    "\n",
    "![how conditional works](decision_making.jpg)\n",
    "\n",
    "\n",
    "Will I like this bento box?\n",
    "```\n",
    "if (main == 'rice'):\n",
    "  print(\"no carbs, please!\")\n",
    "elif(ozofprotein >= 2.5):\n",
    "  print(\"too much!\")\n",
    "else:\n",
    "  print(\"I have no problems with this order\")\n",
    "```\n",
    "\n",
    "\n",
    "The [tools](https://docs.python.org/3/tutorial/controlflow.html)  used in conditionals are `if`, `elif`, and `else`\n",
    "\n",
    "Update the above code example, but rather than `print` set `greatbento` equal to `True` or `False` depending on the values of the bento box ingredients."
   ]
  },
  {
   "cell_type": "code",
   "execution_count": null,
   "metadata": {},
   "outputs": [],
   "source": []
  },
  {
   "cell_type": "markdown",
   "metadata": {},
   "source": [
    "# Using Lists: Indexing, ranges, appendinga"
   ]
  },
  {
   "cell_type": "markdown",
   "metadata": {},
   "source": [
    "#### Lists\n",
    "\n",
    "Writing out all those ingredients individually is a pain, let's put them in a list!\n",
    "\n",
    "![dog-to-do-list](https://media.giphy.com/media/xTiTnuhyBF54B852nK/giphy.gif)\n",
    "\n",
    "\n",
    "```\n",
    "bento_box_list = [\"rice\", \"chicken teriyaki\", \"tempura\", \"soy sauce\", \"ginger\", \"seaweed\"]\n",
    "bento_box_list[2]\n",
    "\n",
    "Output: tempura\n",
    "\n",
    "numbers[0:2]\n",
    "\n",
    "Output: [\"rice\", \"chicken teriyaki\"]\n",
    "```\n",
    "To append to a list:\n",
    "\n",
    "```\n",
    "bento_box_list = [\"rice\", \"chicken teriyaki\", \"tempura\", \"soy sauce\", \"ginger\", \"seaweed\"]\n",
    "bento_box_list.append(\"wasabi\")\n",
    "print(bento_box_list)\n",
    "\n",
    "Output: [\"rice\", \"chicken teriyaki\", \"tempura\", \"soy sauce\", \"ginger\", \"seaweed\", \"wasabi\"]\n",
    "```\n",
    "\n",
    "Now, let's put our order in a readable format using `join`\n",
    "\n",
    "\n",
    "```\n",
    "print('I'd like my bento box to contain: \" + \", \".join(bento_box_list[:-1]+ \", and \"+bento_box_list[-1])\n",
    "```\n",
    "\n",
    "Make a list of your bento box ingredients!  Have it print out in a legible sentence!"
   ]
  },
  {
   "cell_type": "code",
   "execution_count": null,
   "metadata": {},
   "outputs": [],
   "source": []
  },
  {
   "cell_type": "code",
   "execution_count": null,
   "metadata": {},
   "outputs": [],
   "source": []
  },
  {
   "cell_type": "markdown",
   "metadata": {},
   "source": [
    "#### Dictionaries\n",
    "\n",
    "![dictionary](https://images.pexels.com/photos/270233/pexels-photo-270233.jpeg?auto=compress&cs=tinysrgb&dpr=2&w=500)\n",
    "\n",
    "No, not that kind! \n",
    "\n",
    "With your list above, someone would need to tell you that \"rice\" is the main and \"chicken\" is the protein. \n",
    "\n",
    "Dictionaries let you assign **key** and **value** pairs. \n",
    "\n",
    "Rather than using **indexing** you use **keys** to return values.\n",
    "\n",
    "```\n",
    "bento_box_dict = {'ingredient1': 'rice', 'ingredient2': 'unagi', 'ingredient3': 'miso soup'}\n",
    "```\n",
    "To get an element in the dictionary:\n",
    "```\n",
    "print(bento_box_dict['ingredient2'])\n",
    "```\n",
    "\n",
    "Update your bento_box_list to be a dictionary. Make sure to run `type()` on your dictionary to confirm it is successful."
   ]
  },
  {
   "cell_type": "code",
   "execution_count": null,
   "metadata": {},
   "outputs": [],
   "source": []
  },
  {
   "cell_type": "markdown",
   "metadata": {},
   "source": [
    "Now, to make it even better, you can nest **DICTIONARIES** INSIDE of **LISTS**\n",
    "\n",
    "```\n",
    "group_lunch = [\n",
    "    {'ingredient1': 'rice', 'ingredient2': 'unagi', 'ingredient3': 'miso soup'},\n",
    "    {'ingredient1': 'seaweed', 'ingredient2': 'tempura', 'ingredient3': 'miso soup'},\n",
    "    {'ingredient1': 'hamburger', 'ingredient2': 'french fries', 'ingredient3': 'milkshake'}\n",
    "]\n",
    "```\n",
    "\n",
    "try calling elements of group lunch and see what you get!"
   ]
  },
  {
   "cell_type": "code",
   "execution_count": null,
   "metadata": {},
   "outputs": [],
   "source": []
  },
  {
   "cell_type": "code",
   "execution_count": null,
   "metadata": {},
   "outputs": [],
   "source": []
  },
  {
   "cell_type": "markdown",
   "metadata": {},
   "source": [
    "Talk with your neighbors to get a few different bento box orders into a group order. Please limit each order to 5 ingredients. "
   ]
  },
  {
   "cell_type": "code",
   "execution_count": null,
   "metadata": {},
   "outputs": [],
   "source": []
  },
  {
   "cell_type": "markdown",
   "metadata": {},
   "source": [
    "#### For loops\n",
    "\n",
    "Okay, is anyone confused about for-loops? \n",
    "\n",
    "(if so - ask me about laundry)\n",
    "\n",
    "If NOT:\n",
    "\n",
    "```\n",
    "group_lunch = [\n",
    "    {'ingredient1': 'rice', 'ingredient2': 'unagi', 'ingredient3': 'miso soup'},\n",
    "    {'ingredient1': 'seaweed', 'ingredient2': 'tempura', 'ingredient3': 'miso soup'},\n",
    "    {'ingredient1': 'hamburger', 'ingredient2': 'french fries', 'ingredient3': 'milkshake'}\n",
    "]\n",
    "```\n",
    "\n",
    "write a loop to print first ingredient in everyone's bento order.\n",
    "\n"
   ]
  },
  {
   "cell_type": "code",
   "execution_count": null,
   "metadata": {},
   "outputs": [],
   "source": []
  },
  {
   "cell_type": "code",
   "execution_count": null,
   "metadata": {},
   "outputs": [],
   "source": []
  },
  {
   "cell_type": "markdown",
   "metadata": {},
   "source": [
    "### Integration\n",
    "\n",
    "Write a for loop that will go through and print all the orders as a readable sentences. "
   ]
  },
  {
   "cell_type": "code",
   "execution_count": null,
   "metadata": {},
   "outputs": [],
   "source": [
    "# An order of rice, unagi, and miso soup.\n",
    "# An order of .....\n"
   ]
  },
  {
   "cell_type": "code",
   "execution_count": null,
   "metadata": {},
   "outputs": [],
   "source": []
  },
  {
   "cell_type": "markdown",
   "metadata": {},
   "source": [
    "### Reflection:\n",
    "\n",
    "What's an situation where you could use lists and loops to automate a process?\n"
   ]
  },
  {
   "cell_type": "code",
   "execution_count": null,
   "metadata": {},
   "outputs": [],
   "source": []
  }
 ],
 "metadata": {
  "kernelspec": {
   "display_name": "Python 3",
   "language": "python",
   "name": "python3"
  },
  "language_info": {
   "codemirror_mode": {
    "name": "ipython",
    "version": 3
   },
   "file_extension": ".py",
   "mimetype": "text/x-python",
   "name": "python",
   "nbconvert_exporter": "python",
   "pygments_lexer": "ipython3",
   "version": "3.6.9"
  },
  "toc": {
   "base_numbering": 1,
   "nav_menu": {},
   "number_sections": false,
   "sideBar": true,
   "skip_h1_title": false,
   "title_cell": "Table of Contents",
   "title_sidebar": "Contents",
   "toc_cell": false,
   "toc_position": {},
   "toc_section_display": true,
   "toc_window_display": true
  },
  "varInspector": {
   "cols": {
    "lenName": 16,
    "lenType": 16,
    "lenVar": 40
   },
   "kernels_config": {
    "python": {
     "delete_cmd_postfix": "",
     "delete_cmd_prefix": "del ",
     "library": "var_list.py",
     "varRefreshCmd": "print(var_dic_list())"
    },
    "r": {
     "delete_cmd_postfix": ") ",
     "delete_cmd_prefix": "rm(",
     "library": "var_list.r",
     "varRefreshCmd": "cat(var_dic_list()) "
    }
   },
   "types_to_exclude": [
    "module",
    "function",
    "builtin_function_or_method",
    "instance",
    "_Feature"
   ],
   "window_display": true
  }
 },
 "nbformat": 4,
 "nbformat_minor": 2
}
