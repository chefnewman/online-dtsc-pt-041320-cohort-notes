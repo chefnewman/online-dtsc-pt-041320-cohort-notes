{
 "cells": [
  {
   "cell_type": "markdown",
   "metadata": {
    "colab_type": "text",
    "id": "ru6tkbHUa8pf"
   },
   "source": [
    "# <center>Connecting to and interacting with an API"
   ]
  },
  {
   "cell_type": "markdown",
   "metadata": {
    "colab_type": "text",
    "id": "pMtjk7Mla8ph"
   },
   "source": [
    "## <center>A pair programming activity"
   ]
  },
  {
   "cell_type": "markdown",
   "metadata": {
    "colab_type": "text",
    "id": "I2rX4NuIa8pi"
   },
   "source": [
    "<img src='https://raw.githubusercontent.com/jirvingphd/Data-Science-Lessons/master/Mod%202/APIs/genius.jpeg'>\n",
    "<!-- https://raw.githubusercontent.com/jirvingphd/Data-Science-Lessons/master/Mod%202/APIs/api_client.png -->"
   ]
  },
  {
   "cell_type": "markdown",
   "metadata": {
    "colab_type": "text",
    "id": "JWg265mXa8pj"
   },
   "source": [
    "# <center>Genius API\n",
    "## <center>The world's biggest collection of song lyrics and musical knowledge"
   ]
  },
  {
   "cell_type": "markdown",
   "metadata": {
    "colab_type": "text",
    "id": "NmcFl-Gwa8pj"
   },
   "source": [
    "<center>In this pair programming activity, you will connect to the Genius API in order to obtain song lyric data."
   ]
  },
  {
   "cell_type": "markdown",
   "metadata": {
    "colab_type": "text",
    "id": "11le-hQLa8pk"
   },
   "source": [
    "### Create an account to gain access"
   ]
  },
  {
   "cell_type": "markdown",
   "metadata": {
    "colab_type": "text",
    "id": "lN6yvitua8pk"
   },
   "source": [
    "Go to the developer page at https://genius.com/developers. You will have to create a Genius account if you don't already have one."
   ]
  },
  {
   "cell_type": "markdown",
   "metadata": {
    "colab_type": "text",
    "id": "KH9B7mE3a8pl"
   },
   "source": [
    "Then you will want to create a new API client."
   ]
  },
  {
   "cell_type": "markdown",
   "metadata": {
    "colab_type": "text",
    "id": "HdxOnFB7a8pm"
   },
   "source": [
    "<img src='https://raw.githubusercontent.com/jirvingphd/Data-Science-Lessons/master/Mod%202/APIs/api_client.png'>"
   ]
  },
  {
   "cell_type": "markdown",
   "metadata": {
    "colab_type": "text",
    "id": "9lqIfzZKa8pm"
   },
   "source": [
    "You can choose any name for the app. For the website URL, you could just use your Github page.<br><br>\n",
    "<b>Note</b>: The URL must be a full URL with 'http://' in the front."
   ]
  },
  {
   "cell_type": "markdown",
   "metadata": {
    "colab_type": "text",
    "id": "2HgvuS9ja8pn"
   },
   "source": [
    "<img src='https://raw.githubusercontent.com/jirvingphd/Data-Science-Lessons/master/Mod%202/APIs/api_client2.png'>"
   ]
  },
  {
   "cell_type": "code",
   "execution_count": 0,
   "metadata": {
    "colab": {},
    "colab_type": "code",
    "id": "Bq_pHi666FFW",
    "outputId": "dcd77501-e543-42e2-9cff-de2bbd1c01fe"
   },
   "outputs": [
    {
     "name": "stdout",
     "output_type": "stream",
     "text": [
      "dict_keys(['client-id', 'client-secret', 'oath-token'])\n"
     ]
    }
   ],
   "source": [
    "import json\n",
    "\n",
    "# Note: I added a genius_api.json file with my login info inside of my user folder\n",
    "# I used a text editor (SublimeText3)\n",
    "\n",
    "## Replace your User folder below:\n",
    "api_info_file = \"/Users/jamesirving/.secret/genius_api.json\"\n",
    "with open(api_info_file,'r') as f:\n",
    "    contents = f.read()\n",
    "    api_info = json.loads(contents)\n",
    "    \n",
    "print(api_info.keys())\n",
    "\n",
    "        \n",
    "api_id = api_info['client-id']\n",
    "api_secret = api_info['client-secret']\n",
    "api_oath_token = api_info['oath-token']"
   ]
  },
  {
   "cell_type": "markdown",
   "metadata": {
    "colab_type": "text",
    "id": "TCVyfSvEa8po"
   },
   "source": [
    "You should see something similar to the above. <br><br>\n",
    "If you click on 'Generate Access Token' you will be provided with a string that you will need to copy to your clipboard. Genius uses OAuth2 for making API calls so you will need to be passing the token into your calls.<br><br>\n",
    "With your token copied, you're now ready to start connecting to the API."
   ]
  },
  {
   "cell_type": "markdown",
   "metadata": {
    "colab_type": "text",
    "id": "EzTCaHZ6a8po"
   },
   "source": [
    "### Check out documentation"
   ]
  },
  {
   "cell_type": "markdown",
   "metadata": {
    "colab_type": "text",
    "id": "rsXlalsba8pp"
   },
   "source": [
    "Take a couple minutes to browse through the documentation found at https://docs.genius.com/. <br> <br>\n",
    "Take note of what kinds of information is available through this API and what header data is needed to make certain calls. <br><br>\n",
    "Keep the documentation open in a separate tab as you'll want to come back to it for reference."
   ]
  },
  {
   "cell_type": "code",
   "execution_count": 0,
   "metadata": {
    "colab": {},
    "colab_type": "code",
    "id": "jhHrzoHO6FFb"
   },
   "outputs": [],
   "source": [
    "#TOKEN below should be the string that the API docs tells you\n",
    "#Clearly I'm not giving mine out here on the internet. That'd be dumb\n",
    "base_url = \"http://api.genius.com\"\n",
    "#Key line below here when, this is how to authorize your request when\n",
    "#using the API\n",
    "headers = {'Authorization': 'Bearer TOKEN'}\n",
    "search_url = base_url + \"/search\"\n",
    "song_title = \"In the Midst of It All\"\n",
    "params = {'q': song_title}\n",
    "response = requests.get(search_url, params=params, headers=headers)"
   ]
  },
  {
   "cell_type": "code",
   "execution_count": 0,
   "metadata": {
    "colab": {},
    "colab_type": "code",
    "id": "nl4pGrLy6FFe",
    "outputId": "785d9fed-508a-49d6-885f-298a6da2bab3"
   },
   "outputs": [
    {
     "name": "stdout",
     "output_type": "stream",
     "text": [
      "dict_keys(['meta', 'response'])\n"
     ]
    },
    {
     "data": {
      "text/plain": [
       "dict_keys(['hits'])"
      ]
     },
     "execution_count": 13,
     "metadata": {
      "tags": []
     },
     "output_type": "execute_result"
    }
   ],
   "source": [
    "\n",
    "import requests\n",
    "base_url = \"http://api.genius.com\"\n",
    "headers = {'Authorization': 'Bearer '+api_oath_token}\n",
    "search_url = base_url + \"/search\"\n",
    "\n",
    "params = {\"q\":\"Portal: Still Alive\"}\n",
    "response = requests.get(search_url, params=params, headers =headers)\n",
    "\n",
    "data = response.json()\n",
    "print(data.keys())\n",
    "data['response'].keys()"
   ]
  },
  {
   "cell_type": "markdown",
   "metadata": {
    "colab_type": "text",
    "id": "tVyLFMP4a8pp"
   },
   "source": [
    "### Preparing for requests"
   ]
  },
  {
   "cell_type": "markdown",
   "metadata": {
    "colab_type": "text",
    "id": "sHzKeLnUa8pq"
   },
   "source": [
    "In the cells below:<br>\n",
    "- Import the <b>requests</b> library\n",
    "- Create a <b>base_url</b> string containing the base URL for the API (https://api.genius.com)\n",
    "- Create a <b>headers</b> dictionary containing the key, <i>Authorization</i> and the value <i>Bearer </i> + your client access token. (Note: There should be a space in between 'Bearer' and the token.)"
   ]
  },
  {
   "cell_type": "code",
   "execution_count": 0,
   "metadata": {
    "colab": {},
    "colab_type": "code",
    "id": "Wtnuc2saa8pq"
   },
   "outputs": [],
   "source": [
    ""
   ]
  },
  {
   "cell_type": "code",
   "execution_count": 0,
   "metadata": {
    "colab": {},
    "colab_type": "code",
    "id": "34cfnFf8a8pt"
   },
   "outputs": [],
   "source": [
    ""
   ]
  },
  {
   "cell_type": "code",
   "execution_count": 0,
   "metadata": {
    "colab": {},
    "colab_type": "code",
    "id": "A-NiM4RTa8pu"
   },
   "outputs": [],
   "source": [
    ""
   ]
  },
  {
   "cell_type": "markdown",
   "metadata": {
    "colab_type": "text",
    "id": "JmgejljIa8pw"
   },
   "source": [
    "### Search for a song"
   ]
  },
  {
   "cell_type": "markdown",
   "metadata": {
    "colab_type": "text",
    "id": "UKup_El8a8px"
   },
   "source": [
    "Now let's try looking up a specific song and see what kind of info we can get on it."
   ]
  },
  {
   "cell_type": "markdown",
   "metadata": {
    "colab_type": "text",
    "id": "ALKZ1Z5Na8px"
   },
   "source": [
    "If you look at the <b>/songs/</b> endpoint in the documentation, you'll notice that you need the ID for the song. <br><br>\n",
    "In order to get a song ID, we will first need to search for a song and then grab its ID. <br><br>\n",
    "We can do this through the <b>/search</b> endpoint which allows us to enter search terms such as song title, artist, and album.<br><br>\n",
    "Take a look at the documention for the search endpoint - https://docs.genius.com/#/search-h2. <br><br>\n",
    "To make a call to this endpoint, we need to pass in some data: a key called <b>q</b> and our search terms."
   ]
  },
  {
   "cell_type": "markdown",
   "metadata": {
    "colab_type": "text",
    "id": "D7u0reVra8py"
   },
   "source": [
    "In the cells below:<br>\n",
    "- First decide on a song you want to look up\n",
    "- Create a <b>data</b> dictionary containing the key, <b>q</b> and the value the search terms for your song.\n",
    "- Create a search_url by appending the base_url with <b>/search</b>\n",
    "- Make a request to the search_url, passing in the arguments data=data and headers=headers and get the response.\n",
    "- Under the 'response' dictionary, iterate through the 'hits' sub-dictionary until you find the correct song you searched for.\n",
    "- Once you find the correct song, grab and store its ID as song_id."
   ]
  },
  {
   "cell_type": "markdown",
   "metadata": {
    "colab_type": "text",
    "id": "-heLO0p1a8py"
   },
   "source": [
    "<b>Hint:</b> The 'hits' sub-dictionary has a dictionary object called 'result' which contains 'title' (the song title), another dictionary 'primary_artist' (which has a key called 'name' to get the artist's name), and an 'id' value."
   ]
  },
  {
   "cell_type": "code",
   "execution_count": 0,
   "metadata": {
    "colab": {},
    "colab_type": "code",
    "id": "PORxvjTNa8pz"
   },
   "outputs": [],
   "source": [
    ""
   ]
  },
  {
   "cell_type": "code",
   "execution_count": 0,
   "metadata": {
    "colab": {},
    "colab_type": "code",
    "id": "1-Qg-ErSa8p1"
   },
   "outputs": [],
   "source": [
    ""
   ]
  },
  {
   "cell_type": "code",
   "execution_count": 0,
   "metadata": {
    "colab": {},
    "colab_type": "code",
    "id": "TrPMg2Aca8p2"
   },
   "outputs": [],
   "source": [
    ""
   ]
  },
  {
   "cell_type": "code",
   "execution_count": 0,
   "metadata": {
    "colab": {},
    "colab_type": "code",
    "id": "MvrxohbKa8p4"
   },
   "outputs": [],
   "source": [
    ""
   ]
  },
  {
   "cell_type": "code",
   "execution_count": 0,
   "metadata": {
    "colab": {},
    "colab_type": "code",
    "id": "jKLMZJjQa8p5"
   },
   "outputs": [],
   "source": [
    ""
   ]
  },
  {
   "cell_type": "code",
   "execution_count": 0,
   "metadata": {
    "colab": {},
    "colab_type": "code",
    "id": "DPwzZh-ga8p7"
   },
   "outputs": [],
   "source": [
    ""
   ]
  },
  {
   "cell_type": "code",
   "execution_count": 0,
   "metadata": {
    "colab": {},
    "colab_type": "code",
    "id": "93lNs3sLa8p9"
   },
   "outputs": [],
   "source": [
    ""
   ]
  },
  {
   "cell_type": "markdown",
   "metadata": {
    "colab_type": "text",
    "id": "OHnLvoTVa8p-"
   },
   "source": [
    "### Lookup a song"
   ]
  },
  {
   "cell_type": "markdown",
   "metadata": {
    "colab_type": "text",
    "id": "TZcGtDJCa8p_"
   },
   "source": [
    "Now that we have the ID for our song, we can use the '/songs/' endpoint to look it up."
   ]
  },
  {
   "cell_type": "markdown",
   "metadata": {
    "colab_type": "text",
    "id": "i7MLFwENa8qA"
   },
   "source": [
    "In the cells below:<br>\n",
    "- Create a songs_url consisting of the base_url + '/songs/' + the song_id.\n",
    "- Make a request to the songs_url, passing in the argument headers=headers and get the response.\n",
    "- Explore the 'response' dictionary. What info can we get on a song?\n",
    "- Grab the URL for the lyrics page for the song and store it as lyrics_url."
   ]
  },
  {
   "cell_type": "code",
   "execution_count": 0,
   "metadata": {
    "colab": {},
    "colab_type": "code",
    "id": "PofZ6KqBa8qA"
   },
   "outputs": [],
   "source": [
    ""
   ]
  },
  {
   "cell_type": "code",
   "execution_count": 0,
   "metadata": {
    "colab": {},
    "colab_type": "code",
    "id": "lxhGs4NBa8qB"
   },
   "outputs": [],
   "source": [
    ""
   ]
  },
  {
   "cell_type": "code",
   "execution_count": 0,
   "metadata": {
    "colab": {},
    "colab_type": "code",
    "id": "wbpOdO4Ra8qD"
   },
   "outputs": [],
   "source": [
    ""
   ]
  },
  {
   "cell_type": "code",
   "execution_count": 0,
   "metadata": {
    "colab": {},
    "colab_type": "code",
    "id": "mPlPeXs5a8qE"
   },
   "outputs": [],
   "source": [
    ""
   ]
  },
  {
   "cell_type": "code",
   "execution_count": 0,
   "metadata": {
    "colab": {},
    "colab_type": "code",
    "id": "-KdDEfwza8qG"
   },
   "outputs": [],
   "source": [
    ""
   ]
  },
  {
   "cell_type": "markdown",
   "metadata": {
    "colab_type": "text",
    "id": "leopPbE3a8qJ"
   },
   "source": [
    "As a preview of what's to come in the next section with web scraping, we can use the lyrics_url you just grabbed to print out the lyrics to the song. <br><br>\n",
    "You don't have to worry too much about what the following cell contains or how it works. It basically is creating a request to the URL for the lyrics, scanning the page for where the lyrics are, and then grabbing the lyrics as text and returning them. <br><br>\n",
    "This uses a library called BeautifulSoup. You may have to install it first by running 'pip install bs4' in your terminal. <br><br>\n",
    "Go ahead and run the cells below. Just something cool to check out!"
   ]
  },
  {
   "cell_type": "code",
   "execution_count": 0,
   "metadata": {
    "colab": {},
    "colab_type": "code",
    "id": "nPxX0bpoa8qK"
   },
   "outputs": [],
   "source": [
    "from bs4 import BeautifulSoup\n",
    "\n",
    "def scrape_song_url(url):\n",
    "    page = requests.get(url)\n",
    "    html = BeautifulSoup(page.text, 'html.parser')\n",
    "    lyrics = html.find('div', class_='lyrics').get_text()\n",
    "    return lyrics"
   ]
  },
  {
   "cell_type": "code",
   "execution_count": 0,
   "metadata": {
    "colab": {},
    "colab_type": "code",
    "id": "EyYg2QtGa8qM"
   },
   "outputs": [],
   "source": [
    "display(scrape_song_url(url))"
   ]
  },
  {
   "cell_type": "markdown",
   "metadata": {
    "colab_type": "text",
    "id": "xWYkI3-1a8qN"
   },
   "source": [
    "### Interacting with the API"
   ]
  },
  {
   "cell_type": "markdown",
   "metadata": {
    "colab_type": "text",
    "id": "8_7avaiia8qN"
   },
   "source": [
    "For the final challenge (you knew this was coming), you will be given a song ID of a very important song in music history. You will then have to make a couple calls to the API in order to answer these questions:\n",
    "\n",
    "- What song is this?\n",
    "- Who is it by?\n",
    "- What is the artist's Instagram handle?\n",
    "- What are the song's lyrics?"
   ]
  },
  {
   "cell_type": "markdown",
   "metadata": {
    "colab_type": "text",
    "id": "I-UTn-1Oa8qO"
   },
   "source": [
    "The song id is: <b>5603</b>"
   ]
  },
  {
   "cell_type": "code",
   "execution_count": 0,
   "metadata": {
    "colab": {},
    "colab_type": "code",
    "id": "3g2AKTTMa8qO"
   },
   "outputs": [],
   "source": [
    ""
   ]
  },
  {
   "cell_type": "code",
   "execution_count": 0,
   "metadata": {
    "colab": {},
    "colab_type": "code",
    "id": "xtMUft0na8qQ"
   },
   "outputs": [],
   "source": [
    ""
   ]
  },
  {
   "cell_type": "code",
   "execution_count": 0,
   "metadata": {
    "colab": {},
    "colab_type": "code",
    "id": "cqoN6qs5a8qR"
   },
   "outputs": [],
   "source": [
    ""
   ]
  },
  {
   "cell_type": "code",
   "execution_count": 0,
   "metadata": {
    "colab": {},
    "colab_type": "code",
    "id": "vnwvAcrsa8qS"
   },
   "outputs": [],
   "source": [
    ""
   ]
  },
  {
   "cell_type": "code",
   "execution_count": 0,
   "metadata": {
    "colab": {},
    "colab_type": "code",
    "id": "fq6zjnc5a8qT"
   },
   "outputs": [],
   "source": [
    ""
   ]
  },
  {
   "cell_type": "code",
   "execution_count": 0,
   "metadata": {
    "colab": {},
    "colab_type": "code",
    "id": "KyNS30vWa8qU"
   },
   "outputs": [],
   "source": [
    ""
   ]
  },
  {
   "cell_type": "code",
   "execution_count": 0,
   "metadata": {
    "colab": {},
    "colab_type": "code",
    "id": "GTzv1mVGa8qW"
   },
   "outputs": [],
   "source": [
    ""
   ]
  },
  {
   "cell_type": "code",
   "execution_count": 0,
   "metadata": {
    "colab": {},
    "colab_type": "code",
    "id": "nwCdAS9Ha8qY"
   },
   "outputs": [],
   "source": [
    ""
   ]
  },
  {
   "cell_type": "code",
   "execution_count": 0,
   "metadata": {
    "colab": {},
    "colab_type": "code",
    "id": "8W08wzoga8qZ"
   },
   "outputs": [],
   "source": [
    ""
   ]
  },
  {
   "cell_type": "code",
   "execution_count": 0,
   "metadata": {
    "colab": {},
    "colab_type": "code",
    "id": "ZskHvJ--a8qh"
   },
   "outputs": [],
   "source": [
    ""
   ]
  },
  {
   "cell_type": "code",
   "execution_count": 0,
   "metadata": {
    "colab": {},
    "colab_type": "code",
    "id": "ARtQ_GAFa8qj"
   },
   "outputs": [],
   "source": [
    ""
   ]
  }
 ],
 "metadata": {
  "colab": {
   "collapsed_sections": [],
   "name": "APIs_Activity_Students.ipynb",
   "provenance": []
  },
  "kernelspec": {
   "display_name": "Python 3",
   "language": "python",
   "name": "python3"
  },
  "language_info": {
   "codemirror_mode": {
    "name": "ipython",
    "version": 3
   },
   "file_extension": ".py",
   "mimetype": "text/x-python",
   "name": "python",
   "nbconvert_exporter": "python",
   "pygments_lexer": "ipython3",
   "version": "3.6.9"
  },
  "toc": {
   "base_numbering": 1,
   "nav_menu": {},
   "number_sections": false,
   "sideBar": true,
   "skip_h1_title": false,
   "title_cell": "Table of Contents",
   "title_sidebar": "Contents",
   "toc_cell": false,
   "toc_position": {},
   "toc_section_display": true,
   "toc_window_display": true
  },
  "varInspector": {
   "cols": {
    "lenName": 16,
    "lenType": 16,
    "lenVar": 40
   },
   "kernels_config": {
    "python": {
     "delete_cmd_postfix": "",
     "delete_cmd_prefix": "del ",
     "library": "var_list.py",
     "varRefreshCmd": "print(var_dic_list())"
    },
    "r": {
     "delete_cmd_postfix": ") ",
     "delete_cmd_prefix": "rm(",
     "library": "var_list.r",
     "varRefreshCmd": "cat(var_dic_list()) "
    }
   },
   "types_to_exclude": [
    "module",
    "function",
    "builtin_function_or_method",
    "instance",
    "_Feature"
   ],
   "window_display": false
  }
 },
 "nbformat": 4,
 "nbformat_minor": 0
}
